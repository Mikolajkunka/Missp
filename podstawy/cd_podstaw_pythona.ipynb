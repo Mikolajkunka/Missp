{
  "nbformat": 4,
  "nbformat_minor": 0,
  "metadata": {
    "kernelspec": {
      "display_name": "Python 3",
      "language": "python",
      "name": "python3"
    },
    "language_info": {
      "codemirror_mode": {
        "name": "ipython",
        "version": 3
      },
      "file_extension": ".py",
      "mimetype": "text/x-python",
      "name": "python",
      "nbconvert_exporter": "python",
      "pygments_lexer": "ipython3",
      "version": "3.7.3"
    },
    "colab": {
      "name": "cd_podstaw_pythona.ipynb",
      "provenance": [],
      "include_colab_link": true
    }
  },
  "cells": [
    {
      "cell_type": "markdown",
      "metadata": {
        "id": "view-in-github",
        "colab_type": "text"
      },
      "source": [
        "<a href=\"https://colab.research.google.com/github/Mikolajkunka/Missp/blob/main/cd_podstaw_pythona.ipynb\" target=\"_parent\"><img src=\"https://colab.research.google.com/assets/colab-badge.svg\" alt=\"Open In Colab\"/></a>"
      ]
    },
    {
      "cell_type": "code",
      "metadata": {
        "id": "4BHfVt7nvy0c"
      },
      "source": [
        "import numpy as np"
      ],
      "execution_count": null,
      "outputs": []
    },
    {
      "cell_type": "code",
      "metadata": {
        "id": "zBD9SL7ivy0g"
      },
      "source": [
        "a_list= [1,2,3,4,5, [1,2,3], \"temat\"] # nie idealna lista\n",
        "k_krotka = (1,2,3,4,5, [1,2,3], \"temat\") \n",
        "b_list = [1,2,3,4,5]\n",
        "n_array = np.array(b_list) # wektor numpy\n"
      ],
      "execution_count": null,
      "outputs": []
    },
    {
      "cell_type": "code",
      "metadata": {
        "id": "Q6QYL-yVvy0j",
        "colab": {
          "base_uri": "https://localhost:8080/",
          "height": 50
        },
        "outputId": "9bb0653b-e136-4d9a-e2af-7b960c9673cc"
      },
      "source": [
        "print(a_list+b_list) #suma list\n",
        "print(n_array+n_array) #suma wektorów"
      ],
      "execution_count": null,
      "outputs": [
        {
          "output_type": "stream",
          "text": [
            "[1, 2, 3, 4, 5, [1, 2, 3], 'temat', 1, 2, 3, 4, 5]\n",
            "[ 2  4  6  8 10]\n"
          ],
          "name": "stdout"
        }
      ]
    },
    {
      "cell_type": "code",
      "metadata": {
        "id": "iJL-yfDuvy0n",
        "colab": {
          "base_uri": "https://localhost:8080/",
          "height": 34
        },
        "outputId": "5dec07a0-bc9f-4cd9-8e8a-2a20b6f0feb1"
      },
      "source": [
        "a_list[3]"
      ],
      "execution_count": null,
      "outputs": [
        {
          "output_type": "execute_result",
          "data": {
            "text/plain": [
              "4"
            ]
          },
          "metadata": {
            "tags": []
          },
          "execution_count": 7
        }
      ]
    },
    {
      "cell_type": "code",
      "metadata": {
        "id": "D4toZ_OSvy0q",
        "colab": {
          "base_uri": "https://localhost:8080/",
          "height": 34
        },
        "outputId": "a47dba7d-d97f-4c31-ec10-96cca6bdc170"
      },
      "source": [
        "a_list.append(100) # dodaje element na końcu listy\n",
        "print(a_list)"
      ],
      "execution_count": null,
      "outputs": [
        {
          "output_type": "stream",
          "text": [
            "[1, 2, 3, 4, 5, [1, 2, 3], 'temat', 100]\n"
          ],
          "name": "stdout"
        }
      ]
    },
    {
      "cell_type": "code",
      "metadata": {
        "id": "fJX0SSUf2_Py",
        "colab": {
          "base_uri": "https://localhost:8080/",
          "height": 34
        },
        "outputId": "1bb616f0-ae39-4711-f6b0-9175099d40a2"
      },
      "source": [
        "tekst = \"tekst\"\n",
        "nowy_tekst = tekst + \"jakiś inny\"\n",
        "print(nowy_tekst)"
      ],
      "execution_count": null,
      "outputs": [
        {
          "output_type": "stream",
          "text": [
            "tekstjakiś inny\n"
          ],
          "name": "stdout"
        }
      ]
    },
    {
      "cell_type": "code",
      "metadata": {
        "id": "9nD8IQWivy0t",
        "outputId": "895ee41d-1215-4e26-911c-dddd4b98ad9c"
      },
      "source": [
        "k_krotka[4]"
      ],
      "execution_count": null,
      "outputs": [
        {
          "output_type": "execute_result",
          "data": {
            "text/plain": [
              "5"
            ]
          },
          "metadata": {
            "tags": []
          },
          "execution_count": 13
        }
      ]
    },
    {
      "cell_type": "code",
      "metadata": {
        "id": "TYkWqwbq2wBG",
        "colab": {
          "base_uri": "https://localhost:8080/",
          "height": 34
        },
        "outputId": "ddf81e10-b38f-49cb-9d41-0dce60730a64"
      },
      "source": [
        "k_krotka[5].append(1)\n",
        "print(k_krotka)"
      ],
      "execution_count": null,
      "outputs": [
        {
          "output_type": "stream",
          "text": [
            "(1, 2, 3, 4, 5, [1, 2, 3, 1], 'temat')\n"
          ],
          "name": "stdout"
        }
      ]
    },
    {
      "cell_type": "code",
      "metadata": {
        "id": "s8u6N90Xvy0w",
        "colab": {
          "base_uri": "https://localhost:8080/",
          "height": 162
        },
        "outputId": "5f0418ac-044b-410a-e59f-1374e14d3b32"
      },
      "source": [
        "k_krotka.append(100)"
      ],
      "execution_count": null,
      "outputs": [
        {
          "output_type": "error",
          "ename": "AttributeError",
          "evalue": "ignored",
          "traceback": [
            "\u001b[0;31m---------------------------------------------------------------------------\u001b[0m",
            "\u001b[0;31mAttributeError\u001b[0m                            Traceback (most recent call last)",
            "\u001b[0;32m<ipython-input-11-4da2f0146474>\u001b[0m in \u001b[0;36m<module>\u001b[0;34m()\u001b[0m\n\u001b[0;32m----> 1\u001b[0;31m \u001b[0mk_krotka\u001b[0m\u001b[0;34m.\u001b[0m\u001b[0mappend\u001b[0m\u001b[0;34m(\u001b[0m\u001b[0;36m100\u001b[0m\u001b[0;34m)\u001b[0m\u001b[0;34m\u001b[0m\u001b[0;34m\u001b[0m\u001b[0m\n\u001b[0m",
            "\u001b[0;31mAttributeError\u001b[0m: 'tuple' object has no attribute 'append'"
          ]
        }
      ]
    },
    {
      "cell_type": "code",
      "metadata": {
        "id": "AlMopiCx3l8M",
        "colab": {
          "base_uri": "https://localhost:8080/",
          "height": 34
        },
        "outputId": "106bfb3f-db14-4e41-f1fc-9a02c6475c4e"
      },
      "source": [
        "suma = np.array(b_list)+np.array(b_list)\n",
        "\n",
        "suma.dtype\n",
        "\n"
      ],
      "execution_count": null,
      "outputs": [
        {
          "output_type": "execute_result",
          "data": {
            "text/plain": [
              "dtype('int64')"
            ]
          },
          "metadata": {
            "tags": []
          },
          "execution_count": 17
        }
      ]
    },
    {
      "cell_type": "code",
      "metadata": {
        "id": "0yV2j-7pvy0z",
        "outputId": "27e08b21-2a03-4a1f-f3cb-ce4142e4b2bc"
      },
      "source": [
        "np.array(b_list)+np.array(b_list)"
      ],
      "execution_count": null,
      "outputs": [
        {
          "output_type": "execute_result",
          "data": {
            "text/plain": [
              "array([ 2,  4,  6,  8, 10])"
            ]
          },
          "metadata": {
            "tags": []
          },
          "execution_count": 8
        }
      ]
    },
    {
      "cell_type": "code",
      "metadata": {
        "id": "Qw6ebVcKvy02"
      },
      "source": [
        "n_array = np.array(a_list) # wektor numpy"
      ],
      "execution_count": null,
      "outputs": []
    },
    {
      "cell_type": "code",
      "metadata": {
        "id": "ST58n5H_vy05",
        "colab": {
          "base_uri": "https://localhost:8080/",
          "height": 34
        },
        "outputId": "5a067d3f-1941-42dd-ba5a-d1d320fd3bf5"
      },
      "source": [
        "n_array"
      ],
      "execution_count": null,
      "outputs": [
        {
          "output_type": "execute_result",
          "data": {
            "text/plain": [
              "array([1, 2, 3, 4, 5])"
            ]
          },
          "metadata": {
            "tags": []
          },
          "execution_count": 18
        }
      ]
    },
    {
      "cell_type": "code",
      "metadata": {
        "id": "iYfCOsP-vy07"
      },
      "source": [
        "#### Nowosci\n",
        "\n",
        "studenci_slownik = {123: 123,\"Igor\":3, \"Frankek\":5, \"Zosia\":22,\"Julia\":[2,21], (1,2):\"Krotka\"} #klucz i wartość pod value dowolny obiekt a pod kluczem coś haszowanego(ten sam obiekt, kluczem nie może być lista)"
      ],
      "execution_count": null,
      "outputs": []
    },
    {
      "cell_type": "code",
      "metadata": {
        "id": "PfRVzUc1vy09",
        "colab": {
          "base_uri": "https://localhost:8080/",
          "height": 34
        },
        "outputId": "5655ec7b-356c-4224-93fd-150439df5114"
      },
      "source": [
        "print(studenci_slownik)"
      ],
      "execution_count": null,
      "outputs": [
        {
          "output_type": "stream",
          "text": [
            "{123: 123, 'Igor': 3, 'Frankek': 5, 'Zosia': 22, 'Julia': [2, 21], (1, 2): 'Krotka'}\n"
          ],
          "name": "stdout"
        }
      ]
    },
    {
      "cell_type": "code",
      "metadata": {
        "id": "UfRUHQ95vy1B",
        "colab": {
          "base_uri": "https://localhost:8080/",
          "height": 34
        },
        "outputId": "6ec3d7aa-e881-4003-bff9-6acd06a5e880"
      },
      "source": [
        "studenci_slownik[\"Zosia\"]"
      ],
      "execution_count": null,
      "outputs": [
        {
          "output_type": "execute_result",
          "data": {
            "text/plain": [
              "22"
            ]
          },
          "metadata": {
            "tags": []
          },
          "execution_count": 35
        }
      ]
    },
    {
      "cell_type": "code",
      "metadata": {
        "id": "HmFPFYQ8vy1D",
        "colab": {
          "base_uri": "https://localhost:8080/",
          "height": 235
        },
        "outputId": "db23a1b2-0192-46a6-f3ac-33eeba8af312"
      },
      "source": [
        "for elementy in studenci_slownik:\n",
        "    print(elementy)\n",
        "\n",
        "print(\"*\"*20)\n",
        "for elementy in studenci_slownik.keys():\n",
        "    print(elementy)"
      ],
      "execution_count": null,
      "outputs": [
        {
          "output_type": "stream",
          "text": [
            "123\n",
            "Igor\n",
            "Frankek\n",
            "Zosia\n",
            "Julia\n",
            "(1, 2)\n",
            "********************\n",
            "123\n",
            "Igor\n",
            "Frankek\n",
            "Zosia\n",
            "Julia\n",
            "(1, 2)\n"
          ],
          "name": "stdout"
        }
      ]
    },
    {
      "cell_type": "code",
      "metadata": {
        "id": "TJVY2y4nvy1H",
        "colab": {
          "base_uri": "https://localhost:8080/",
          "height": 118
        },
        "outputId": "99d2b3cf-6a9b-469c-abe4-2d065b6a192f"
      },
      "source": [
        "for elementy in studenci_slownik.items(): #do uzyskania kluczy i wartości\n",
        "    print(elementy)"
      ],
      "execution_count": null,
      "outputs": [
        {
          "output_type": "stream",
          "text": [
            "(123, 123)\n",
            "('Igor', 3)\n",
            "('Frankek', 5)\n",
            "('Zosia', 22)\n",
            "('Julia', [2, 21])\n",
            "((1, 2), 'Krotka')\n"
          ],
          "name": "stdout"
        }
      ]
    },
    {
      "cell_type": "code",
      "metadata": {
        "id": "RXEF7IcEvy1M",
        "colab": {
          "base_uri": "https://localhost:8080/",
          "height": 118
        },
        "outputId": "b4b981c1-a5ce-4e6c-f8b0-062cb51b25a7"
      },
      "source": [
        "for imie, ocena in studenci_slownik.items():\n",
        "    print(\"{} ma ocene {}\".format(imie,ocena))"
      ],
      "execution_count": null,
      "outputs": [
        {
          "output_type": "stream",
          "text": [
            "123 ma ocene 123\n",
            "Igor ma ocene 3\n",
            "Frankek ma ocene 5\n",
            "Zosia ma ocene 22\n",
            "Julia ma ocene [2, 21]\n",
            "(1, 2) ma ocene Krotka\n"
          ],
          "name": "stdout"
        }
      ]
    },
    {
      "cell_type": "code",
      "metadata": {
        "id": "bRRp0Yge61sr",
        "colab": {
          "base_uri": "https://localhost:8080/",
          "height": 118
        },
        "outputId": "dbfb103d-4415-4931-9bf8-089c53b34065"
      },
      "source": [
        "for elementy in studenci_slownik.values(): #do uzyskania kluczy i wartości\n",
        "    print(elementy)"
      ],
      "execution_count": null,
      "outputs": [
        {
          "output_type": "stream",
          "text": [
            "123\n",
            "3\n",
            "5\n",
            "22\n",
            "[2, 21]\n",
            "Krotka\n"
          ],
          "name": "stdout"
        }
      ]
    },
    {
      "cell_type": "code",
      "metadata": {
        "id": "b0vJ1Mwxvy1P"
      },
      "source": [
        "studenci_slownik[\"Cuthulu\"]= -1000000"
      ],
      "execution_count": null,
      "outputs": []
    },
    {
      "cell_type": "code",
      "metadata": {
        "id": "4qGErubIvy1S",
        "colab": {
          "base_uri": "https://localhost:8080/",
          "height": 134
        },
        "outputId": "863afeea-d828-454d-a268-c1d20ef035a1"
      },
      "source": [
        "studenci_slownik"
      ],
      "execution_count": null,
      "outputs": [
        {
          "output_type": "execute_result",
          "data": {
            "text/plain": [
              "{(1, 2): 'Krotka',\n",
              " 123: 123,\n",
              " 'Cuthulu': -1000000,\n",
              " 'Frankek': 5,\n",
              " 'Igor': 3,\n",
              " 'Julia': [2, 21],\n",
              " 'Zosia': 22}"
            ]
          },
          "metadata": {
            "tags": []
          },
          "execution_count": 42
        }
      ]
    },
    {
      "cell_type": "code",
      "metadata": {
        "id": "Lu4by2M67Cx5",
        "colab": {
          "base_uri": "https://localhost:8080/",
          "height": 34
        },
        "outputId": "ffbb9038-e176-41c5-b5a9-3429d663a324"
      },
      "source": [
        "stara_lista = [\"Mikolaj\", \"Andrzej\", \"nie imie\", \"Zofia\"]\n",
        "nowa_lista = [imie for imie in stara_lista if imie[0].isupper()]\n",
        "print(nowa_lista)"
      ],
      "execution_count": null,
      "outputs": [
        {
          "output_type": "stream",
          "text": [
            "['Mikolaj', 'Andrzej', 'Zofia']\n"
          ],
          "name": "stdout"
        }
      ]
    },
    {
      "cell_type": "code",
      "metadata": {
        "id": "5a6r2bvmvy1W",
        "colab": {
          "base_uri": "https://localhost:8080/",
          "height": 70
        },
        "outputId": "e2885cd2-c806-4d4f-cbc0-7a81f1fee92e"
      },
      "source": [
        "automatyczna_lista=[liczba**2 for liczba in range(100) if liczba%4==0]\n",
        "print(automatyczna_lista)\n",
        "\n",
        "automatyczna_lista_pary=[(liczba,liczba**2) for liczba in range(100) if liczba%4==0]\n",
        "\n",
        "print(automatyczna_lista_pary)"
      ],
      "execution_count": null,
      "outputs": [
        {
          "output_type": "stream",
          "text": [
            "[0, 16, 64, 144, 256, 400, 576, 784, 1024, 1296, 1600, 1936, 2304, 2704, 3136, 3600, 4096, 4624, 5184, 5776, 6400, 7056, 7744, 8464, 9216]\n",
            "[(0, 0), (4, 16), (8, 64), (12, 144), (16, 256), (20, 400), (24, 576), (28, 784), (32, 1024), (36, 1296), (40, 1600), (44, 1936), (48, 2304), (52, 2704), (56, 3136), (60, 3600), (64, 4096), (68, 4624), (72, 5184), (76, 5776), (80, 6400), (84, 7056), (88, 7744), (92, 8464), (96, 9216)]\n"
          ],
          "name": "stdout"
        }
      ]
    },
    {
      "cell_type": "code",
      "metadata": {
        "id": "_2gacXogvy1a",
        "colab": {
          "base_uri": "https://localhost:8080/",
          "height": 34
        },
        "outputId": "02108cd0-748d-401d-b5a3-477d014909cd"
      },
      "source": [
        "studenci = studenci_slownik.keys()\n",
        "automatyczny_slownik=dict(para for para in enumerate(studenci))\n",
        "print(automatyczny_slownik)"
      ],
      "execution_count": null,
      "outputs": [
        {
          "output_type": "stream",
          "text": [
            "{0: 123, 1: 'Igor', 2: 'Frankek', 3: 'Zosia', 4: 'Julia', 5: (1, 2), 6: 'Cuthulu'}\n"
          ],
          "name": "stdout"
        }
      ]
    },
    {
      "cell_type": "code",
      "metadata": {
        "id": "wyzJmeSs9OZP",
        "colab": {
          "base_uri": "https://localhost:8080/",
          "height": 50
        },
        "outputId": "a0abe128-43dc-4504-d181-358115b5dea0"
      },
      "source": [
        "print(studenci_slownik)\n",
        "\n",
        "print(\"Igor\" in studenci_slownik) # w słownikach szybciej sprawdzamy czy wustepuje jakis element niz w przypadku listy"
      ],
      "execution_count": null,
      "outputs": [
        {
          "output_type": "stream",
          "text": [
            "{123: 123, 'Igor': 3, 'Frankek': 5, 'Zosia': 22, 'Julia': [2, 21], (1, 2): 'Krotka', 'Cuthulu': -1000000}\n",
            "True\n"
          ],
          "name": "stdout"
        }
      ]
    },
    {
      "cell_type": "code",
      "metadata": {
        "id": "TY-WemjXvy1c"
      },
      "source": [
        "##### zbiory\n",
        "\n",
        "a={1,2,3,\"Franek\"}\n",
        "b={2,3,4,\"Franek\"}\n"
      ],
      "execution_count": null,
      "outputs": []
    },
    {
      "cell_type": "code",
      "metadata": {
        "id": "qvu8K6cfvy1f",
        "outputId": "170c069b-244f-4411-c050-ae94aadb0f31"
      },
      "source": [
        "a|b #suma zbiorów, sum of sets"
      ],
      "execution_count": null,
      "outputs": [
        {
          "output_type": "execute_result",
          "data": {
            "text/plain": [
              "{1, 2, 3, 4, 'Franek'}"
            ]
          },
          "metadata": {
            "tags": []
          },
          "execution_count": 23
        }
      ]
    },
    {
      "cell_type": "code",
      "metadata": {
        "id": "0FI_WNpOvy1j",
        "outputId": "19f0d7d6-3e9e-4c7f-e9aa-5f12649da621"
      },
      "source": [
        "a.add(\"Franek\")\n",
        "print(a)"
      ],
      "execution_count": null,
      "outputs": [
        {
          "output_type": "stream",
          "text": [
            "{1, 2, 3, 'Franek'}\n"
          ],
          "name": "stdout"
        }
      ]
    },
    {
      "cell_type": "code",
      "metadata": {
        "id": "91ZsgLCEvy1m",
        "outputId": "589959a2-4ec7-47f7-c2c0-dfea976a6b97"
      },
      "source": [
        "1 in a\n",
        "\"Igor\" in studenci_slownik"
      ],
      "execution_count": null,
      "outputs": [
        {
          "output_type": "execute_result",
          "data": {
            "text/plain": [
              "True"
            ]
          },
          "metadata": {
            "tags": []
          },
          "execution_count": 25
        }
      ]
    },
    {
      "cell_type": "code",
      "metadata": {
        "id": "mVzXnqkz-iQq",
        "colab": {
          "base_uri": "https://localhost:8080/",
          "height": 104
        },
        "outputId": "2efcda5e-5140-45fd-81f7-7ff84f72da2b"
      },
      "source": [
        "studenci_lista = [\"Igor_\"+str(nr) for nr in range(1000)]\n",
        "print(studenci_lista)\n",
        "studenci_set = set(studenci_lista) #zbior z listy\n",
        "print(studenci_set)\n",
        "\n",
        "powtarzajaca_lista = [\"Igor\" for el in range(1000)]\n",
        "print(powtarzajaca_lista)\n",
        "print(set(powtarzajaca_lista))"
      ],
      "execution_count": null,
      "outputs": [
        {
          "output_type": "stream",
          "text": [
            "['Igor_0', 'Igor_1', 'Igor_2', 'Igor_3', 'Igor_4', 'Igor_5', 'Igor_6', 'Igor_7', 'Igor_8', 'Igor_9', 'Igor_10', 'Igor_11', 'Igor_12', 'Igor_13', 'Igor_14', 'Igor_15', 'Igor_16', 'Igor_17', 'Igor_18', 'Igor_19', 'Igor_20', 'Igor_21', 'Igor_22', 'Igor_23', 'Igor_24', 'Igor_25', 'Igor_26', 'Igor_27', 'Igor_28', 'Igor_29', 'Igor_30', 'Igor_31', 'Igor_32', 'Igor_33', 'Igor_34', 'Igor_35', 'Igor_36', 'Igor_37', 'Igor_38', 'Igor_39', 'Igor_40', 'Igor_41', 'Igor_42', 'Igor_43', 'Igor_44', 'Igor_45', 'Igor_46', 'Igor_47', 'Igor_48', 'Igor_49', 'Igor_50', 'Igor_51', 'Igor_52', 'Igor_53', 'Igor_54', 'Igor_55', 'Igor_56', 'Igor_57', 'Igor_58', 'Igor_59', 'Igor_60', 'Igor_61', 'Igor_62', 'Igor_63', 'Igor_64', 'Igor_65', 'Igor_66', 'Igor_67', 'Igor_68', 'Igor_69', 'Igor_70', 'Igor_71', 'Igor_72', 'Igor_73', 'Igor_74', 'Igor_75', 'Igor_76', 'Igor_77', 'Igor_78', 'Igor_79', 'Igor_80', 'Igor_81', 'Igor_82', 'Igor_83', 'Igor_84', 'Igor_85', 'Igor_86', 'Igor_87', 'Igor_88', 'Igor_89', 'Igor_90', 'Igor_91', 'Igor_92', 'Igor_93', 'Igor_94', 'Igor_95', 'Igor_96', 'Igor_97', 'Igor_98', 'Igor_99', 'Igor_100', 'Igor_101', 'Igor_102', 'Igor_103', 'Igor_104', 'Igor_105', 'Igor_106', 'Igor_107', 'Igor_108', 'Igor_109', 'Igor_110', 'Igor_111', 'Igor_112', 'Igor_113', 'Igor_114', 'Igor_115', 'Igor_116', 'Igor_117', 'Igor_118', 'Igor_119', 'Igor_120', 'Igor_121', 'Igor_122', 'Igor_123', 'Igor_124', 'Igor_125', 'Igor_126', 'Igor_127', 'Igor_128', 'Igor_129', 'Igor_130', 'Igor_131', 'Igor_132', 'Igor_133', 'Igor_134', 'Igor_135', 'Igor_136', 'Igor_137', 'Igor_138', 'Igor_139', 'Igor_140', 'Igor_141', 'Igor_142', 'Igor_143', 'Igor_144', 'Igor_145', 'Igor_146', 'Igor_147', 'Igor_148', 'Igor_149', 'Igor_150', 'Igor_151', 'Igor_152', 'Igor_153', 'Igor_154', 'Igor_155', 'Igor_156', 'Igor_157', 'Igor_158', 'Igor_159', 'Igor_160', 'Igor_161', 'Igor_162', 'Igor_163', 'Igor_164', 'Igor_165', 'Igor_166', 'Igor_167', 'Igor_168', 'Igor_169', 'Igor_170', 'Igor_171', 'Igor_172', 'Igor_173', 'Igor_174', 'Igor_175', 'Igor_176', 'Igor_177', 'Igor_178', 'Igor_179', 'Igor_180', 'Igor_181', 'Igor_182', 'Igor_183', 'Igor_184', 'Igor_185', 'Igor_186', 'Igor_187', 'Igor_188', 'Igor_189', 'Igor_190', 'Igor_191', 'Igor_192', 'Igor_193', 'Igor_194', 'Igor_195', 'Igor_196', 'Igor_197', 'Igor_198', 'Igor_199', 'Igor_200', 'Igor_201', 'Igor_202', 'Igor_203', 'Igor_204', 'Igor_205', 'Igor_206', 'Igor_207', 'Igor_208', 'Igor_209', 'Igor_210', 'Igor_211', 'Igor_212', 'Igor_213', 'Igor_214', 'Igor_215', 'Igor_216', 'Igor_217', 'Igor_218', 'Igor_219', 'Igor_220', 'Igor_221', 'Igor_222', 'Igor_223', 'Igor_224', 'Igor_225', 'Igor_226', 'Igor_227', 'Igor_228', 'Igor_229', 'Igor_230', 'Igor_231', 'Igor_232', 'Igor_233', 'Igor_234', 'Igor_235', 'Igor_236', 'Igor_237', 'Igor_238', 'Igor_239', 'Igor_240', 'Igor_241', 'Igor_242', 'Igor_243', 'Igor_244', 'Igor_245', 'Igor_246', 'Igor_247', 'Igor_248', 'Igor_249', 'Igor_250', 'Igor_251', 'Igor_252', 'Igor_253', 'Igor_254', 'Igor_255', 'Igor_256', 'Igor_257', 'Igor_258', 'Igor_259', 'Igor_260', 'Igor_261', 'Igor_262', 'Igor_263', 'Igor_264', 'Igor_265', 'Igor_266', 'Igor_267', 'Igor_268', 'Igor_269', 'Igor_270', 'Igor_271', 'Igor_272', 'Igor_273', 'Igor_274', 'Igor_275', 'Igor_276', 'Igor_277', 'Igor_278', 'Igor_279', 'Igor_280', 'Igor_281', 'Igor_282', 'Igor_283', 'Igor_284', 'Igor_285', 'Igor_286', 'Igor_287', 'Igor_288', 'Igor_289', 'Igor_290', 'Igor_291', 'Igor_292', 'Igor_293', 'Igor_294', 'Igor_295', 'Igor_296', 'Igor_297', 'Igor_298', 'Igor_299', 'Igor_300', 'Igor_301', 'Igor_302', 'Igor_303', 'Igor_304', 'Igor_305', 'Igor_306', 'Igor_307', 'Igor_308', 'Igor_309', 'Igor_310', 'Igor_311', 'Igor_312', 'Igor_313', 'Igor_314', 'Igor_315', 'Igor_316', 'Igor_317', 'Igor_318', 'Igor_319', 'Igor_320', 'Igor_321', 'Igor_322', 'Igor_323', 'Igor_324', 'Igor_325', 'Igor_326', 'Igor_327', 'Igor_328', 'Igor_329', 'Igor_330', 'Igor_331', 'Igor_332', 'Igor_333', 'Igor_334', 'Igor_335', 'Igor_336', 'Igor_337', 'Igor_338', 'Igor_339', 'Igor_340', 'Igor_341', 'Igor_342', 'Igor_343', 'Igor_344', 'Igor_345', 'Igor_346', 'Igor_347', 'Igor_348', 'Igor_349', 'Igor_350', 'Igor_351', 'Igor_352', 'Igor_353', 'Igor_354', 'Igor_355', 'Igor_356', 'Igor_357', 'Igor_358', 'Igor_359', 'Igor_360', 'Igor_361', 'Igor_362', 'Igor_363', 'Igor_364', 'Igor_365', 'Igor_366', 'Igor_367', 'Igor_368', 'Igor_369', 'Igor_370', 'Igor_371', 'Igor_372', 'Igor_373', 'Igor_374', 'Igor_375', 'Igor_376', 'Igor_377', 'Igor_378', 'Igor_379', 'Igor_380', 'Igor_381', 'Igor_382', 'Igor_383', 'Igor_384', 'Igor_385', 'Igor_386', 'Igor_387', 'Igor_388', 'Igor_389', 'Igor_390', 'Igor_391', 'Igor_392', 'Igor_393', 'Igor_394', 'Igor_395', 'Igor_396', 'Igor_397', 'Igor_398', 'Igor_399', 'Igor_400', 'Igor_401', 'Igor_402', 'Igor_403', 'Igor_404', 'Igor_405', 'Igor_406', 'Igor_407', 'Igor_408', 'Igor_409', 'Igor_410', 'Igor_411', 'Igor_412', 'Igor_413', 'Igor_414', 'Igor_415', 'Igor_416', 'Igor_417', 'Igor_418', 'Igor_419', 'Igor_420', 'Igor_421', 'Igor_422', 'Igor_423', 'Igor_424', 'Igor_425', 'Igor_426', 'Igor_427', 'Igor_428', 'Igor_429', 'Igor_430', 'Igor_431', 'Igor_432', 'Igor_433', 'Igor_434', 'Igor_435', 'Igor_436', 'Igor_437', 'Igor_438', 'Igor_439', 'Igor_440', 'Igor_441', 'Igor_442', 'Igor_443', 'Igor_444', 'Igor_445', 'Igor_446', 'Igor_447', 'Igor_448', 'Igor_449', 'Igor_450', 'Igor_451', 'Igor_452', 'Igor_453', 'Igor_454', 'Igor_455', 'Igor_456', 'Igor_457', 'Igor_458', 'Igor_459', 'Igor_460', 'Igor_461', 'Igor_462', 'Igor_463', 'Igor_464', 'Igor_465', 'Igor_466', 'Igor_467', 'Igor_468', 'Igor_469', 'Igor_470', 'Igor_471', 'Igor_472', 'Igor_473', 'Igor_474', 'Igor_475', 'Igor_476', 'Igor_477', 'Igor_478', 'Igor_479', 'Igor_480', 'Igor_481', 'Igor_482', 'Igor_483', 'Igor_484', 'Igor_485', 'Igor_486', 'Igor_487', 'Igor_488', 'Igor_489', 'Igor_490', 'Igor_491', 'Igor_492', 'Igor_493', 'Igor_494', 'Igor_495', 'Igor_496', 'Igor_497', 'Igor_498', 'Igor_499', 'Igor_500', 'Igor_501', 'Igor_502', 'Igor_503', 'Igor_504', 'Igor_505', 'Igor_506', 'Igor_507', 'Igor_508', 'Igor_509', 'Igor_510', 'Igor_511', 'Igor_512', 'Igor_513', 'Igor_514', 'Igor_515', 'Igor_516', 'Igor_517', 'Igor_518', 'Igor_519', 'Igor_520', 'Igor_521', 'Igor_522', 'Igor_523', 'Igor_524', 'Igor_525', 'Igor_526', 'Igor_527', 'Igor_528', 'Igor_529', 'Igor_530', 'Igor_531', 'Igor_532', 'Igor_533', 'Igor_534', 'Igor_535', 'Igor_536', 'Igor_537', 'Igor_538', 'Igor_539', 'Igor_540', 'Igor_541', 'Igor_542', 'Igor_543', 'Igor_544', 'Igor_545', 'Igor_546', 'Igor_547', 'Igor_548', 'Igor_549', 'Igor_550', 'Igor_551', 'Igor_552', 'Igor_553', 'Igor_554', 'Igor_555', 'Igor_556', 'Igor_557', 'Igor_558', 'Igor_559', 'Igor_560', 'Igor_561', 'Igor_562', 'Igor_563', 'Igor_564', 'Igor_565', 'Igor_566', 'Igor_567', 'Igor_568', 'Igor_569', 'Igor_570', 'Igor_571', 'Igor_572', 'Igor_573', 'Igor_574', 'Igor_575', 'Igor_576', 'Igor_577', 'Igor_578', 'Igor_579', 'Igor_580', 'Igor_581', 'Igor_582', 'Igor_583', 'Igor_584', 'Igor_585', 'Igor_586', 'Igor_587', 'Igor_588', 'Igor_589', 'Igor_590', 'Igor_591', 'Igor_592', 'Igor_593', 'Igor_594', 'Igor_595', 'Igor_596', 'Igor_597', 'Igor_598', 'Igor_599', 'Igor_600', 'Igor_601', 'Igor_602', 'Igor_603', 'Igor_604', 'Igor_605', 'Igor_606', 'Igor_607', 'Igor_608', 'Igor_609', 'Igor_610', 'Igor_611', 'Igor_612', 'Igor_613', 'Igor_614', 'Igor_615', 'Igor_616', 'Igor_617', 'Igor_618', 'Igor_619', 'Igor_620', 'Igor_621', 'Igor_622', 'Igor_623', 'Igor_624', 'Igor_625', 'Igor_626', 'Igor_627', 'Igor_628', 'Igor_629', 'Igor_630', 'Igor_631', 'Igor_632', 'Igor_633', 'Igor_634', 'Igor_635', 'Igor_636', 'Igor_637', 'Igor_638', 'Igor_639', 'Igor_640', 'Igor_641', 'Igor_642', 'Igor_643', 'Igor_644', 'Igor_645', 'Igor_646', 'Igor_647', 'Igor_648', 'Igor_649', 'Igor_650', 'Igor_651', 'Igor_652', 'Igor_653', 'Igor_654', 'Igor_655', 'Igor_656', 'Igor_657', 'Igor_658', 'Igor_659', 'Igor_660', 'Igor_661', 'Igor_662', 'Igor_663', 'Igor_664', 'Igor_665', 'Igor_666', 'Igor_667', 'Igor_668', 'Igor_669', 'Igor_670', 'Igor_671', 'Igor_672', 'Igor_673', 'Igor_674', 'Igor_675', 'Igor_676', 'Igor_677', 'Igor_678', 'Igor_679', 'Igor_680', 'Igor_681', 'Igor_682', 'Igor_683', 'Igor_684', 'Igor_685', 'Igor_686', 'Igor_687', 'Igor_688', 'Igor_689', 'Igor_690', 'Igor_691', 'Igor_692', 'Igor_693', 'Igor_694', 'Igor_695', 'Igor_696', 'Igor_697', 'Igor_698', 'Igor_699', 'Igor_700', 'Igor_701', 'Igor_702', 'Igor_703', 'Igor_704', 'Igor_705', 'Igor_706', 'Igor_707', 'Igor_708', 'Igor_709', 'Igor_710', 'Igor_711', 'Igor_712', 'Igor_713', 'Igor_714', 'Igor_715', 'Igor_716', 'Igor_717', 'Igor_718', 'Igor_719', 'Igor_720', 'Igor_721', 'Igor_722', 'Igor_723', 'Igor_724', 'Igor_725', 'Igor_726', 'Igor_727', 'Igor_728', 'Igor_729', 'Igor_730', 'Igor_731', 'Igor_732', 'Igor_733', 'Igor_734', 'Igor_735', 'Igor_736', 'Igor_737', 'Igor_738', 'Igor_739', 'Igor_740', 'Igor_741', 'Igor_742', 'Igor_743', 'Igor_744', 'Igor_745', 'Igor_746', 'Igor_747', 'Igor_748', 'Igor_749', 'Igor_750', 'Igor_751', 'Igor_752', 'Igor_753', 'Igor_754', 'Igor_755', 'Igor_756', 'Igor_757', 'Igor_758', 'Igor_759', 'Igor_760', 'Igor_761', 'Igor_762', 'Igor_763', 'Igor_764', 'Igor_765', 'Igor_766', 'Igor_767', 'Igor_768', 'Igor_769', 'Igor_770', 'Igor_771', 'Igor_772', 'Igor_773', 'Igor_774', 'Igor_775', 'Igor_776', 'Igor_777', 'Igor_778', 'Igor_779', 'Igor_780', 'Igor_781', 'Igor_782', 'Igor_783', 'Igor_784', 'Igor_785', 'Igor_786', 'Igor_787', 'Igor_788', 'Igor_789', 'Igor_790', 'Igor_791', 'Igor_792', 'Igor_793', 'Igor_794', 'Igor_795', 'Igor_796', 'Igor_797', 'Igor_798', 'Igor_799', 'Igor_800', 'Igor_801', 'Igor_802', 'Igor_803', 'Igor_804', 'Igor_805', 'Igor_806', 'Igor_807', 'Igor_808', 'Igor_809', 'Igor_810', 'Igor_811', 'Igor_812', 'Igor_813', 'Igor_814', 'Igor_815', 'Igor_816', 'Igor_817', 'Igor_818', 'Igor_819', 'Igor_820', 'Igor_821', 'Igor_822', 'Igor_823', 'Igor_824', 'Igor_825', 'Igor_826', 'Igor_827', 'Igor_828', 'Igor_829', 'Igor_830', 'Igor_831', 'Igor_832', 'Igor_833', 'Igor_834', 'Igor_835', 'Igor_836', 'Igor_837', 'Igor_838', 'Igor_839', 'Igor_840', 'Igor_841', 'Igor_842', 'Igor_843', 'Igor_844', 'Igor_845', 'Igor_846', 'Igor_847', 'Igor_848', 'Igor_849', 'Igor_850', 'Igor_851', 'Igor_852', 'Igor_853', 'Igor_854', 'Igor_855', 'Igor_856', 'Igor_857', 'Igor_858', 'Igor_859', 'Igor_860', 'Igor_861', 'Igor_862', 'Igor_863', 'Igor_864', 'Igor_865', 'Igor_866', 'Igor_867', 'Igor_868', 'Igor_869', 'Igor_870', 'Igor_871', 'Igor_872', 'Igor_873', 'Igor_874', 'Igor_875', 'Igor_876', 'Igor_877', 'Igor_878', 'Igor_879', 'Igor_880', 'Igor_881', 'Igor_882', 'Igor_883', 'Igor_884', 'Igor_885', 'Igor_886', 'Igor_887', 'Igor_888', 'Igor_889', 'Igor_890', 'Igor_891', 'Igor_892', 'Igor_893', 'Igor_894', 'Igor_895', 'Igor_896', 'Igor_897', 'Igor_898', 'Igor_899', 'Igor_900', 'Igor_901', 'Igor_902', 'Igor_903', 'Igor_904', 'Igor_905', 'Igor_906', 'Igor_907', 'Igor_908', 'Igor_909', 'Igor_910', 'Igor_911', 'Igor_912', 'Igor_913', 'Igor_914', 'Igor_915', 'Igor_916', 'Igor_917', 'Igor_918', 'Igor_919', 'Igor_920', 'Igor_921', 'Igor_922', 'Igor_923', 'Igor_924', 'Igor_925', 'Igor_926', 'Igor_927', 'Igor_928', 'Igor_929', 'Igor_930', 'Igor_931', 'Igor_932', 'Igor_933', 'Igor_934', 'Igor_935', 'Igor_936', 'Igor_937', 'Igor_938', 'Igor_939', 'Igor_940', 'Igor_941', 'Igor_942', 'Igor_943', 'Igor_944', 'Igor_945', 'Igor_946', 'Igor_947', 'Igor_948', 'Igor_949', 'Igor_950', 'Igor_951', 'Igor_952', 'Igor_953', 'Igor_954', 'Igor_955', 'Igor_956', 'Igor_957', 'Igor_958', 'Igor_959', 'Igor_960', 'Igor_961', 'Igor_962', 'Igor_963', 'Igor_964', 'Igor_965', 'Igor_966', 'Igor_967', 'Igor_968', 'Igor_969', 'Igor_970', 'Igor_971', 'Igor_972', 'Igor_973', 'Igor_974', 'Igor_975', 'Igor_976', 'Igor_977', 'Igor_978', 'Igor_979', 'Igor_980', 'Igor_981', 'Igor_982', 'Igor_983', 'Igor_984', 'Igor_985', 'Igor_986', 'Igor_987', 'Igor_988', 'Igor_989', 'Igor_990', 'Igor_991', 'Igor_992', 'Igor_993', 'Igor_994', 'Igor_995', 'Igor_996', 'Igor_997', 'Igor_998', 'Igor_999']\n",
            "{'Igor_163', 'Igor_961', 'Igor_281', 'Igor_397', 'Igor_595', 'Igor_511', 'Igor_964', 'Igor_87', 'Igor_5', 'Igor_658', 'Igor_949', 'Igor_673', 'Igor_879', 'Igor_440', 'Igor_175', 'Igor_276', 'Igor_155', 'Igor_82', 'Igor_567', 'Igor_808', 'Igor_400', 'Igor_179', 'Igor_237', 'Igor_987', 'Igor_751', 'Igor_47', 'Igor_211', 'Igor_636', 'Igor_620', 'Igor_643', 'Igor_557', 'Igor_31', 'Igor_174', 'Igor_842', 'Igor_135', 'Igor_298', 'Igor_212', 'Igor_248', 'Igor_123', 'Igor_310', 'Igor_129', 'Igor_201', 'Igor_923', 'Igor_711', 'Igor_464', 'Igor_789', 'Igor_821', 'Igor_435', 'Igor_631', 'Igor_669', 'Igor_616', 'Igor_159', 'Igor_496', 'Igor_626', 'Igor_659', 'Igor_271', 'Igor_292', 'Igor_338', 'Igor_738', 'Igor_273', 'Igor_846', 'Igor_695', 'Igor_410', 'Igor_145', 'Igor_432', 'Igor_433', 'Igor_646', 'Igor_684', 'Igor_350', 'Igor_83', 'Igor_162', 'Igor_241', 'Igor_465', 'Igor_114', 'Igor_450', 'Igor_402', 'Igor_537', 'Igor_747', 'Igor_780', 'Igor_749', 'Igor_109', 'Igor_438', 'Igor_236', 'Igor_907', 'Igor_906', 'Igor_996', 'Igor_66', 'Igor_479', 'Igor_504', 'Igor_548', 'Igor_805', 'Igor_826', 'Igor_528', 'Igor_197', 'Igor_564', 'Igor_661', 'Igor_131', 'Igor_318', 'Igor_657', 'Igor_323', 'Igor_138', 'Igor_227', 'Igor_485', 'Igor_112', 'Igor_535', 'Igor_818', 'Igor_719', 'Igor_725', 'Igor_17', 'Igor_602', 'Igor_672', 'Igor_521', 'Igor_692', 'Igor_19', 'Igor_73', 'Igor_222', 'Igor_104', 'Igor_113', 'Igor_908', 'Igor_932', 'Igor_254', 'Igor_729', 'Igor_971', 'Igor_839', 'Igor_581', 'Igor_856', 'Igor_63', 'Igor_294', 'Igor_482', 'Igor_337', 'Igor_578', 'Igor_81', 'Igor_463', 'Igor_723', 'Igor_878', 'Igor_909', 'Igor_344', 'Igor_543', 'Igor_147', 'Igor_359', 'Igor_702', 'Igor_287', 'Igor_762', 'Igor_288', 'Igor_994', 'Igor_319', 'Igor_35', 'Igor_445', 'Igor_430', 'Igor_954', 'Igor_189', 'Igor_455', 'Igor_745', 'Igor_324', 'Igor_304', 'Igor_25', 'Igor_332', 'Igor_101', 'Igor_867', 'Igor_399', 'Igor_242', 'Igor_843', 'Igor_588', 'Igor_621', 'Igor_690', 'Igor_121', 'Igor_232', 'Igor_887', 'Igor_931', 'Igor_291', 'Igor_979', 'Igor_792', 'Igor_72', 'Igor_54', 'Igor_160', 'Igor_503', 'Igor_213', 'Igor_591', 'Igor_471', 'Igor_713', 'Igor_203', 'Igor_280', 'Igor_781', 'Igor_832', 'Igor_873', 'Igor_534', 'Igor_653', 'Igor_708', 'Igor_850', 'Igor_468', 'Igor_240', 'Igor_41', 'Igor_746', 'Igor_958', 'Igor_524', 'Igor_667', 'Igor_627', 'Igor_864', 'Igor_488', 'Igor_623', 'Igor_890', 'Igor_371', 'Igor_336', 'Igor_391', 'Igor_855', 'Igor_499', 'Igor_635', 'Igor_583', 'Igor_307', 'Igor_230', 'Igor_334', 'Igor_157', 'Igor_893', 'Igor_874', 'Igor_508', 'Igor_91', 'Igor_571', 'Igor_876', 'Igor_27', 'Igor_476', 'Igor_270', 'Igor_282', 'Igor_322', 'Igor_392', 'Igor_329', 'Igor_966', 'Igor_89', 'Igor_62', 'Igor_61', 'Igor_387', 'Igor_649', 'Igor_851', 'Igor_118', 'Igor_347', 'Igor_755', 'Igor_892', 'Igor_615', 'Igor_396', 'Igor_812', 'Igor_776', 'Igor_538', 'Igor_182', 'Igor_120', 'Igor_486', 'Igor_79', 'Igor_483', 'Igor_549', 'Igor_341', 'Igor_838', 'Igor_998', 'Igor_389', 'Igor_967', 'Igor_2', 'Igor_326', 'Igor_769', 'Igor_799', 'Igor_891', 'Igor_530', 'Igor_80', 'Igor_760', 'Igor_970', 'Igor_942', 'Igor_208', 'Igor_308', 'Igor_803', 'Igor_989', 'Igor_207', 'Igor_542', 'Igor_377', 'Igor_405', 'Igor_848', 'Igor_49', 'Igor_210', 'Igor_169', 'Igor_149', 'Igor_787', 'Igor_969', 'Igor_983', 'Igor_596', 'Igor_339', 'Igor_404', 'Igor_607', 'Igor_737', 'Igor_761', 'Igor_937', 'Igor_186', 'Igor_910', 'Igor_26', 'Igor_995', 'Igor_462', 'Igor_133', 'Igor_171', 'Igor_255', 'Igor_417', 'Igor_420', 'Igor_460', 'Igor_960', 'Igor_53', 'Igor_863', 'Igor_515', 'Igor_634', 'Igor_930', 'Igor_105', 'Igor_425', 'Igor_233', 'Igor_529', 'Igor_754', 'Igor_245', 'Igor_268', 'Igor_918', 'Igor_948', 'Igor_205', 'Igor_305', 'Igor_325', 'Igor_815', 'Igor_94', 'Igor_382', 'Igor_8', 'Igor_117', 'Igor_882', 'Igor_847', 'Igor_193', 'Igor_390', 'Igor_829', 'Igor_880', 'Igor_522', 'Igor_610', 'Igor_628', 'Igor_944', 'Igor_767', 'Igor_935', 'Igor_170', 'Igor_852', 'Igor_231', 'Igor_122', 'Igor_630', 'Igor_632', 'Igor_507', 'Igor_437', 'Igor_552', 'Igor_401', 'Igor_166', 'Igor_526', 'Igor_365', 'Igor_469', 'Igor_710', 'Igor_768', 'Igor_614', 'Igor_194', 'Igor_202', 'Igor_257', 'Igor_380', 'Igor_148', 'Igor_423', 'Igor_50', 'Igor_466', 'Igor_367', 'Igor_349', 'Igor_779', 'Igor_301', 'Igor_869', 'Igor_286', 'Igor_897', 'Igor_154', 'Igor_370', 'Igor_546', 'Igor_802', 'Igor_15', 'Igor_36', 'Igor_894', 'Igor_283', 'Igor_933', 'Igor_4', 'Igor_200', 'Igor_756', 'Igor_974', 'Igor_617', 'Igor_115', 'Igor_348', 'Igor_599', 'Igor_717', 'Igor_693', 'Igor_939', 'Igor_38', 'Igor_525', 'Igor_516', 'Igor_950', 'Igor_550', 'Igor_505', 'Igor_6', 'Igor_556', 'Igor_888', 'Igor_913', 'Igor_495', 'Igor_688', 'Igor_284', 'Igor_791', 'Igor_342', 'Igor_618', 'Igor_868', 'Igor_144', 'Igor_134', 'Igor_796', 'Igor_951', 'Igor_70', 'Igor_316', 'Igor_313', 'Igor_441', 'Igor_519', 'Igor_730', 'Igor_427', 'Igor_553', 'Igor_580', 'Igor_458', 'Igor_608', 'Igor_509', 'Igor_181', 'Igor_592', 'Igor_381', 'Igor_251', 'Igor_278', 'Igor_715', 'Igor_353', 'Igor_265', 'Igor_22', 'Igor_295', 'Igor_199', 'Igor_408', 'Igor_859', 'Igor_354', 'Igor_214', 'Igor_258', 'Igor_48', 'Igor_461', 'Igor_93', 'Igor_911', 'Igor_470', 'Igor_152', 'Igor_44', 'Igor_259', 'Igor_243', 'Igor_840', 'Igor_263', 'Igor_788', 'Igor_865', 'Igor_7', 'Igor_238', 'Igor_986', 'Igor_256', 'Igor_662', 'Igor_670', 'Igor_811', 'Igor_23', 'Igor_547', 'Igor_806', 'Igor_143', 'Igor_429', 'Igor_260', 'Igor_474', 'Igor_732', 'Igor_579', 'Igor_100', 'Igor_691', 'Igor_934', 'Igor_559', 'Igor_593', 'Igor_928', 'Igor_544', 'Igor_898', 'Igor_647', 'Igor_827', 'Igor_744', 'Igor_748', 'Igor_562', 'Igor_165', 'Igor_314', 'Igor_726', 'Igor_551', 'Igor_434', 'Igor_46', 'Igor_600', 'Igor_858', 'Igor_777', 'Igor_218', 'Igor_844', 'Igor_422', 'Igor_10', 'Igor_67', 'Igor_388', 'Igor_536', 'Igor_28', 'Igor_416', 'Igor_532', 'Igor_494', 'Igor_637', 'Igor_664', 'Igor_629', 'Igor_703', 'Igor_674', 'Igor_743', 'Igor_853', 'Igor_413', 'Igor_252', 'Igor_419', 'Igor_436', 'Igor_153', 'Igor_204', 'Igor_943', 'Igor_45', 'Igor_770', 'Igor_220', 'Igor_885', 'Igor_555', 'Igor_303', 'Igor_103', 'Igor_363', 'Igor_903', 'Igor_398', 'Igor_984', 'Igor_12', 'Igor_837', 'Igor_959', 'Igor_372', 'Igor_64', 'Igor_560', 'Igor_107', 'Igor_554', 'Igor_475', 'Igor_428', 'Igor_477', 'Igor_999', 'Igor_478', 'Igor_797', 'Igor_681', 'Igor_140', 'Igor_299', 'Igor_228', 'Igor_161', 'Igor_217', 'Igor_150', 'Igor_605', 'Igor_982', 'Igor_415', 'Igor_712', 'Igor_823', 'Igor_875', 'Igor_972', 'Igor_992', 'Igor_734', 'Igor_594', 'Igor_177', 'Igor_456', 'Igor_484', 'Igor_687', 'Igor_98', 'Igor_640', 'Igor_572', 'Igor_395', 'Igor_946', 'Igor_239', 'Igor_88', 'Igor_866', 'Igor_883', 'Igor_598', 'Igor_611', 'Igor_178', 'Igor_333', 'Igor_831', 'Igor_173', 'Igor_638', 'Igor_196', 'Igor_830', 'Igor_442', 'Igor_666', 'Igor_678', 'Igor_685', 'Igor_735', 'Igor_968', 'Igor_804', 'Igor_642', 'Igor_51', 'Igor_142', 'Igor_190', 'Igor_362', 'Igor_585', 'Igor_235', 'Igor_74', 'Igor_720', 'Igor_0', 'Igor_394', 'Igor_682', 'Igor_825', 'Igor_774', 'Igor_331', 'Igor_146', 'Igor_575', 'Igor_809', 'Igor_253', 'Igor_446', 'Igor_506', 'Igor_185', 'Igor_824', 'Igor_577', 'Igor_453', 'Igor_216', 'Igor_819', 'Igor_857', 'Igor_765', 'Igor_650', 'Igor_915', 'Igor_335', 'Igor_587', 'Igor_800', 'Igor_487', 'Igor_192', 'Igor_246', 'Igor_733', 'Igor_728', 'Igor_590', 'Igor_124', 'Igor_828', 'Igor_639', 'Igor_861', 'Igor_492', 'Igor_424', 'Igor_384', 'Igor_833', 'Igor_988', 'Igor_586', 'Igor_714', 'Igor_327', 'Igor_576', 'Igor_375', 'Igor_59', 'Igor_110', 'Igor_921', 'Igor_315', 'Igor_709', 'Igor_845', 'Igor_539', 'Igor_651', 'Igor_654', 'Igor_21', 'Igor_172', 'Igor_699', 'Igor_750', 'Igor_42', 'Igor_689', 'Igor_785', 'Igor_793', 'Igor_816', 'Igor_229', 'Igor_798', 'Igor_137', 'Igor_914', 'Igor_52', 'Igor_116', 'Igor_624', 'Igor_991', 'Igor_33', 'Igor_920', 'Igor_473', 'Igor_938', 'Igor_60', 'Igor_29', 'Igor_927', 'Igor_660', 'Igor_977', 'Igor_985', 'Igor_902', 'Igor_293', 'Igor_872', 'Igor_764', 'Igor_671', 'Igor_990', 'Igor_321', 'Igor_820', 'Igor_266', 'Igor_58', 'Igor_978', 'Igor_517', 'Igor_540', 'Igor_889', 'Igor_168', 'Igor_300', 'Igor_188', 'Igor_582', 'Igor_95', 'Igor_34', 'Igor_675', 'Igor_141', 'Igor_955', 'Igor_111', 'Igor_727', 'Igor_884', 'Igor_368', 'Igor_411', 'Igor_705', 'Igor_822', 'Igor_361', 'Igor_901', 'Igor_261', 'Igor_421', 'Igor_784', 'Igor_957', 'Igor_302', 'Igor_378', 'Igor_439', 'Igor_275', 'Igor_871', 'Igor_84', 'Igor_520', 'Igor_740', 'Igor_183', 'Igor_731', 'Igor_782', 'Igor_518', 'Igor_569', 'Igor_604', 'Igor_360', 'Igor_965', 'Igor_574', 'Igor_722', 'Igor_541', 'Igor_443', 'Igor_366', 'Igor_164', 'Igor_561', 'Igor_619', 'Igor_16', 'Igor_558', 'Igor_975', 'Igor_795', 'Igor_716', 'Igor_633', 'Igor_836', 'Igor_997', 'Igor_356', 'Igor_498', 'Igor_219', 'Igor_320', 'Igor_467', 'Igor_993', 'Igor_742', 'Igor_244', 'Igor_940', 'Igor_625', 'Igor_247', 'Igor_119', 'Igor_130', 'Igor_512', 'Igor_860', 'Igor_225', 'Igor_106', 'Igor_981', 'Igor_886', 'Igor_545', 'Igor_834', 'Igor_312', 'Igor_533', 'Igor_14', 'Igor_763', 'Igor_426', 'Igor_306', 'Igor_317', 'Igor_403', 'Igor_296', 'Igor_65', 'Igor_77', 'Igor_409', 'Igor_677', 'Igor_775', 'Igor_817', 'Igor_919', 'Igor_953', 'Igor_790', 'Igor_330', 'Igor_30', 'Igor_352', 'Igor_862', 'Igor_448', 'Igor_807', 'Igor_351', 'Igor_1', 'Igor_126', 'Igor_656', 'Igor_167', 'Igor_527', 'Igor_514', 'Igor_75', 'Igor_606', 'Igor_589', 'Igor_565', 'Igor_180', 'Igor_490', 'Igor_936', 'Igor_343', 'Igor_71', 'Igor_794', 'Igor_86', 'Igor_700', 'Igor_810', 'Igor_234', 'Igor_76', 'Igor_491', 'Igor_206', 'Igor_55', 'Igor_724', 'Igor_566', 'Igor_9', 'Igor_612', 'Igor_452', 'Igor_501', 'Igor_459', 'Igor_697', 'Igor_215', 'Igor_698', 'Igor_85', 'Igor_500', 'Igor_896', 'Igor_648', 'Igor_945', 'Igor_125', 'Igor_924', 'Igor_973', 'Igor_39', 'Igor_449', 'Igor_481', 'Igor_209', 'Igor_753', 'Igor_57', 'Igor_369', 'Igor_156', 'Igor_32', 'Igor_18', 'Igor_568', 'Igor_704', 'Igor_285', 'Igor_813', 'Igor_801', 'Igor_947', 'Igor_641', 'Igor_510', 'Igor_447', 'Igor_912', 'Igor_20', 'Igor_431', 'Igor_694', 'Igor_925', 'Igor_916', 'Igor_451', 'Igor_523', 'Igor_224', 'Igor_108', 'Igor_250', 'Igor_272', 'Igor_311', 'Igor_444', 'Igor_78', 'Igor_493', 'Igor_721', 'Igor_97', 'Igor_956', 'Igor_980', 'Igor_40', 'Igor_644', 'Igor_718', 'Igor_223', 'Igor_24', 'Igor_922', 'Igor_772', 'Igor_158', 'Igor_497', 'Igor_609', 'Igor_139', 'Igor_655', 'Igor_680', 'Igor_531', 'Igor_696', 'Igor_187', 'Igor_766', 'Igor_264', 'Igor_758', 'Igor_127', 'Igor_926', 'Igor_480', 'Igor_136', 'Igor_841', 'Igor_584', 'Igor_502', 'Igor_663', 'Igor_759', 'Igor_701', 'Igor_601', 'Igor_603', 'Igor_683', 'Igor_963', 'Igor_952', 'Igor_279', 'Igor_221', 'Igor_92', 'Igor_309', 'Igor_835', 'Igor_355', 'Igor_374', 'Igor_739', 'Igor_741', 'Igor_513', 'Igor_563', 'Igor_771', 'Igor_262', 'Igor_132', 'Igor_414', 'Igor_877', 'Igor_358', 'Igor_757', 'Igor_198', 'Igor_379', 'Igor_905', 'Igor_613', 'Igor_69', 'Igor_357', 'Igor_376', 'Igor_191', 'Igor_783', 'Igor_962', 'Igor_345', 'Igor_652', 'Igor_297', 'Igor_364', 'Igor_786', 'Igor_904', 'Igor_895', 'Igor_267', 'Igor_274', 'Igor_68', 'Igor_90', 'Igor_622', 'Igor_43', 'Igor_976', 'Igor_752', 'Igor_707', 'Igor_854', 'Igor_102', 'Igor_195', 'Igor_176', 'Igor_340', 'Igor_386', 'Igor_778', 'Igor_290', 'Igor_676', 'Igor_96', 'Igor_412', 'Igor_668', 'Igor_56', 'Igor_128', 'Igor_269', 'Igor_454', 'Igor_736', 'Igor_13', 'Igor_393', 'Igor_406', 'Igor_899', 'Igor_686', 'Igor_489', 'Igor_941', 'Igor_3', 'Igor_383', 'Igor_457', 'Igor_597', 'Igor_184', 'Igor_11', 'Igor_881', 'Igor_849', 'Igor_706', 'Igor_346', 'Igor_37', 'Igor_418', 'Igor_277', 'Igor_99', 'Igor_573', 'Igor_249', 'Igor_151', 'Igor_870', 'Igor_900', 'Igor_814', 'Igor_929', 'Igor_472', 'Igor_917', 'Igor_226', 'Igor_645', 'Igor_665', 'Igor_373', 'Igor_385', 'Igor_679', 'Igor_773', 'Igor_407', 'Igor_289', 'Igor_570', 'Igor_328'}\n",
            "['Igor', 'Igor', 'Igor', 'Igor', 'Igor', 'Igor', 'Igor', 'Igor', 'Igor', 'Igor', 'Igor', 'Igor', 'Igor', 'Igor', 'Igor', 'Igor', 'Igor', 'Igor', 'Igor', 'Igor', 'Igor', 'Igor', 'Igor', 'Igor', 'Igor', 'Igor', 'Igor', 'Igor', 'Igor', 'Igor', 'Igor', 'Igor', 'Igor', 'Igor', 'Igor', 'Igor', 'Igor', 'Igor', 'Igor', 'Igor', 'Igor', 'Igor', 'Igor', 'Igor', 'Igor', 'Igor', 'Igor', 'Igor', 'Igor', 'Igor', 'Igor', 'Igor', 'Igor', 'Igor', 'Igor', 'Igor', 'Igor', 'Igor', 'Igor', 'Igor', 'Igor', 'Igor', 'Igor', 'Igor', 'Igor', 'Igor', 'Igor', 'Igor', 'Igor', 'Igor', 'Igor', 'Igor', 'Igor', 'Igor', 'Igor', 'Igor', 'Igor', 'Igor', 'Igor', 'Igor', 'Igor', 'Igor', 'Igor', 'Igor', 'Igor', 'Igor', 'Igor', 'Igor', 'Igor', 'Igor', 'Igor', 'Igor', 'Igor', 'Igor', 'Igor', 'Igor', 'Igor', 'Igor', 'Igor', 'Igor', 'Igor', 'Igor', 'Igor', 'Igor', 'Igor', 'Igor', 'Igor', 'Igor', 'Igor', 'Igor', 'Igor', 'Igor', 'Igor', 'Igor', 'Igor', 'Igor', 'Igor', 'Igor', 'Igor', 'Igor', 'Igor', 'Igor', 'Igor', 'Igor', 'Igor', 'Igor', 'Igor', 'Igor', 'Igor', 'Igor', 'Igor', 'Igor', 'Igor', 'Igor', 'Igor', 'Igor', 'Igor', 'Igor', 'Igor', 'Igor', 'Igor', 'Igor', 'Igor', 'Igor', 'Igor', 'Igor', 'Igor', 'Igor', 'Igor', 'Igor', 'Igor', 'Igor', 'Igor', 'Igor', 'Igor', 'Igor', 'Igor', 'Igor', 'Igor', 'Igor', 'Igor', 'Igor', 'Igor', 'Igor', 'Igor', 'Igor', 'Igor', 'Igor', 'Igor', 'Igor', 'Igor', 'Igor', 'Igor', 'Igor', 'Igor', 'Igor', 'Igor', 'Igor', 'Igor', 'Igor', 'Igor', 'Igor', 'Igor', 'Igor', 'Igor', 'Igor', 'Igor', 'Igor', 'Igor', 'Igor', 'Igor', 'Igor', 'Igor', 'Igor', 'Igor', 'Igor', 'Igor', 'Igor', 'Igor', 'Igor', 'Igor', 'Igor', 'Igor', 'Igor', 'Igor', 'Igor', 'Igor', 'Igor', 'Igor', 'Igor', 'Igor', 'Igor', 'Igor', 'Igor', 'Igor', 'Igor', 'Igor', 'Igor', 'Igor', 'Igor', 'Igor', 'Igor', 'Igor', 'Igor', 'Igor', 'Igor', 'Igor', 'Igor', 'Igor', 'Igor', 'Igor', 'Igor', 'Igor', 'Igor', 'Igor', 'Igor', 'Igor', 'Igor', 'Igor', 'Igor', 'Igor', 'Igor', 'Igor', 'Igor', 'Igor', 'Igor', 'Igor', 'Igor', 'Igor', 'Igor', 'Igor', 'Igor', 'Igor', 'Igor', 'Igor', 'Igor', 'Igor', 'Igor', 'Igor', 'Igor', 'Igor', 'Igor', 'Igor', 'Igor', 'Igor', 'Igor', 'Igor', 'Igor', 'Igor', 'Igor', 'Igor', 'Igor', 'Igor', 'Igor', 'Igor', 'Igor', 'Igor', 'Igor', 'Igor', 'Igor', 'Igor', 'Igor', 'Igor', 'Igor', 'Igor', 'Igor', 'Igor', 'Igor', 'Igor', 'Igor', 'Igor', 'Igor', 'Igor', 'Igor', 'Igor', 'Igor', 'Igor', 'Igor', 'Igor', 'Igor', 'Igor', 'Igor', 'Igor', 'Igor', 'Igor', 'Igor', 'Igor', 'Igor', 'Igor', 'Igor', 'Igor', 'Igor', 'Igor', 'Igor', 'Igor', 'Igor', 'Igor', 'Igor', 'Igor', 'Igor', 'Igor', 'Igor', 'Igor', 'Igor', 'Igor', 'Igor', 'Igor', 'Igor', 'Igor', 'Igor', 'Igor', 'Igor', 'Igor', 'Igor', 'Igor', 'Igor', 'Igor', 'Igor', 'Igor', 'Igor', 'Igor', 'Igor', 'Igor', 'Igor', 'Igor', 'Igor', 'Igor', 'Igor', 'Igor', 'Igor', 'Igor', 'Igor', 'Igor', 'Igor', 'Igor', 'Igor', 'Igor', 'Igor', 'Igor', 'Igor', 'Igor', 'Igor', 'Igor', 'Igor', 'Igor', 'Igor', 'Igor', 'Igor', 'Igor', 'Igor', 'Igor', 'Igor', 'Igor', 'Igor', 'Igor', 'Igor', 'Igor', 'Igor', 'Igor', 'Igor', 'Igor', 'Igor', 'Igor', 'Igor', 'Igor', 'Igor', 'Igor', 'Igor', 'Igor', 'Igor', 'Igor', 'Igor', 'Igor', 'Igor', 'Igor', 'Igor', 'Igor', 'Igor', 'Igor', 'Igor', 'Igor', 'Igor', 'Igor', 'Igor', 'Igor', 'Igor', 'Igor', 'Igor', 'Igor', 'Igor', 'Igor', 'Igor', 'Igor', 'Igor', 'Igor', 'Igor', 'Igor', 'Igor', 'Igor', 'Igor', 'Igor', 'Igor', 'Igor', 'Igor', 'Igor', 'Igor', 'Igor', 'Igor', 'Igor', 'Igor', 'Igor', 'Igor', 'Igor', 'Igor', 'Igor', 'Igor', 'Igor', 'Igor', 'Igor', 'Igor', 'Igor', 'Igor', 'Igor', 'Igor', 'Igor', 'Igor', 'Igor', 'Igor', 'Igor', 'Igor', 'Igor', 'Igor', 'Igor', 'Igor', 'Igor', 'Igor', 'Igor', 'Igor', 'Igor', 'Igor', 'Igor', 'Igor', 'Igor', 'Igor', 'Igor', 'Igor', 'Igor', 'Igor', 'Igor', 'Igor', 'Igor', 'Igor', 'Igor', 'Igor', 'Igor', 'Igor', 'Igor', 'Igor', 'Igor', 'Igor', 'Igor', 'Igor', 'Igor', 'Igor', 'Igor', 'Igor', 'Igor', 'Igor', 'Igor', 'Igor', 'Igor', 'Igor', 'Igor', 'Igor', 'Igor', 'Igor', 'Igor', 'Igor', 'Igor', 'Igor', 'Igor', 'Igor', 'Igor', 'Igor', 'Igor', 'Igor', 'Igor', 'Igor', 'Igor', 'Igor', 'Igor', 'Igor', 'Igor', 'Igor', 'Igor', 'Igor', 'Igor', 'Igor', 'Igor', 'Igor', 'Igor', 'Igor', 'Igor', 'Igor', 'Igor', 'Igor', 'Igor', 'Igor', 'Igor', 'Igor', 'Igor', 'Igor', 'Igor', 'Igor', 'Igor', 'Igor', 'Igor', 'Igor', 'Igor', 'Igor', 'Igor', 'Igor', 'Igor', 'Igor', 'Igor', 'Igor', 'Igor', 'Igor', 'Igor', 'Igor', 'Igor', 'Igor', 'Igor', 'Igor', 'Igor', 'Igor', 'Igor', 'Igor', 'Igor', 'Igor', 'Igor', 'Igor', 'Igor', 'Igor', 'Igor', 'Igor', 'Igor', 'Igor', 'Igor', 'Igor', 'Igor', 'Igor', 'Igor', 'Igor', 'Igor', 'Igor', 'Igor', 'Igor', 'Igor', 'Igor', 'Igor', 'Igor', 'Igor', 'Igor', 'Igor', 'Igor', 'Igor', 'Igor', 'Igor', 'Igor', 'Igor', 'Igor', 'Igor', 'Igor', 'Igor', 'Igor', 'Igor', 'Igor', 'Igor', 'Igor', 'Igor', 'Igor', 'Igor', 'Igor', 'Igor', 'Igor', 'Igor', 'Igor', 'Igor', 'Igor', 'Igor', 'Igor', 'Igor', 'Igor', 'Igor', 'Igor', 'Igor', 'Igor', 'Igor', 'Igor', 'Igor', 'Igor', 'Igor', 'Igor', 'Igor', 'Igor', 'Igor', 'Igor', 'Igor', 'Igor', 'Igor', 'Igor', 'Igor', 'Igor', 'Igor', 'Igor', 'Igor', 'Igor', 'Igor', 'Igor', 'Igor', 'Igor', 'Igor', 'Igor', 'Igor', 'Igor', 'Igor', 'Igor', 'Igor', 'Igor', 'Igor', 'Igor', 'Igor', 'Igor', 'Igor', 'Igor', 'Igor', 'Igor', 'Igor', 'Igor', 'Igor', 'Igor', 'Igor', 'Igor', 'Igor', 'Igor', 'Igor', 'Igor', 'Igor', 'Igor', 'Igor', 'Igor', 'Igor', 'Igor', 'Igor', 'Igor', 'Igor', 'Igor', 'Igor', 'Igor', 'Igor', 'Igor', 'Igor', 'Igor', 'Igor', 'Igor', 'Igor', 'Igor', 'Igor', 'Igor', 'Igor', 'Igor', 'Igor', 'Igor', 'Igor', 'Igor', 'Igor', 'Igor', 'Igor', 'Igor', 'Igor', 'Igor', 'Igor', 'Igor', 'Igor', 'Igor', 'Igor', 'Igor', 'Igor', 'Igor', 'Igor', 'Igor', 'Igor', 'Igor', 'Igor', 'Igor', 'Igor', 'Igor', 'Igor', 'Igor', 'Igor', 'Igor', 'Igor', 'Igor', 'Igor', 'Igor', 'Igor', 'Igor', 'Igor', 'Igor', 'Igor', 'Igor', 'Igor', 'Igor', 'Igor', 'Igor', 'Igor', 'Igor', 'Igor', 'Igor', 'Igor', 'Igor', 'Igor', 'Igor', 'Igor', 'Igor', 'Igor', 'Igor', 'Igor', 'Igor', 'Igor', 'Igor', 'Igor', 'Igor', 'Igor', 'Igor', 'Igor', 'Igor', 'Igor', 'Igor', 'Igor', 'Igor', 'Igor', 'Igor', 'Igor', 'Igor', 'Igor', 'Igor', 'Igor', 'Igor', 'Igor', 'Igor', 'Igor', 'Igor', 'Igor', 'Igor', 'Igor', 'Igor', 'Igor', 'Igor', 'Igor', 'Igor', 'Igor', 'Igor', 'Igor', 'Igor', 'Igor', 'Igor', 'Igor', 'Igor', 'Igor', 'Igor', 'Igor', 'Igor', 'Igor', 'Igor', 'Igor', 'Igor', 'Igor', 'Igor', 'Igor', 'Igor', 'Igor', 'Igor', 'Igor', 'Igor', 'Igor', 'Igor', 'Igor', 'Igor', 'Igor', 'Igor', 'Igor', 'Igor', 'Igor', 'Igor', 'Igor', 'Igor', 'Igor', 'Igor', 'Igor', 'Igor', 'Igor', 'Igor', 'Igor', 'Igor', 'Igor', 'Igor', 'Igor', 'Igor', 'Igor', 'Igor', 'Igor', 'Igor', 'Igor', 'Igor', 'Igor', 'Igor', 'Igor', 'Igor', 'Igor', 'Igor', 'Igor', 'Igor', 'Igor', 'Igor', 'Igor', 'Igor', 'Igor', 'Igor', 'Igor', 'Igor', 'Igor', 'Igor', 'Igor', 'Igor', 'Igor', 'Igor', 'Igor', 'Igor', 'Igor', 'Igor', 'Igor', 'Igor', 'Igor', 'Igor', 'Igor', 'Igor', 'Igor', 'Igor', 'Igor', 'Igor', 'Igor', 'Igor', 'Igor', 'Igor', 'Igor', 'Igor', 'Igor', 'Igor', 'Igor', 'Igor', 'Igor', 'Igor', 'Igor', 'Igor', 'Igor', 'Igor', 'Igor', 'Igor', 'Igor', 'Igor', 'Igor', 'Igor', 'Igor', 'Igor', 'Igor', 'Igor', 'Igor', 'Igor', 'Igor', 'Igor', 'Igor', 'Igor', 'Igor', 'Igor', 'Igor', 'Igor', 'Igor', 'Igor', 'Igor', 'Igor', 'Igor', 'Igor', 'Igor', 'Igor', 'Igor', 'Igor', 'Igor', 'Igor', 'Igor', 'Igor', 'Igor', 'Igor', 'Igor', 'Igor', 'Igor', 'Igor', 'Igor', 'Igor', 'Igor', 'Igor', 'Igor', 'Igor', 'Igor', 'Igor', 'Igor', 'Igor', 'Igor', 'Igor', 'Igor', 'Igor', 'Igor', 'Igor', 'Igor', 'Igor', 'Igor', 'Igor', 'Igor', 'Igor', 'Igor', 'Igor', 'Igor', 'Igor', 'Igor', 'Igor', 'Igor', 'Igor', 'Igor', 'Igor', 'Igor', 'Igor', 'Igor', 'Igor', 'Igor', 'Igor', 'Igor', 'Igor', 'Igor', 'Igor', 'Igor', 'Igor', 'Igor', 'Igor', 'Igor', 'Igor', 'Igor', 'Igor', 'Igor', 'Igor', 'Igor', 'Igor', 'Igor', 'Igor', 'Igor', 'Igor', 'Igor', 'Igor', 'Igor', 'Igor', 'Igor', 'Igor', 'Igor', 'Igor', 'Igor', 'Igor', 'Igor', 'Igor', 'Igor', 'Igor']\n",
            "{'Igor'}\n"
          ],
          "name": "stdout"
        }
      ]
    },
    {
      "cell_type": "code",
      "metadata": {
        "id": "Gcw4SdxwFXEj",
        "colab": {
          "base_uri": "https://localhost:8080/",
          "height": 34
        },
        "outputId": "5b70d2fe-15da-4754-ed6a-18798ebfe0b2"
      },
      "source": [
        "%%timeit\n",
        "\n",
        "##udowadniamy ze przeszukiwanie set jest szybsze niz listy\n",
        "jest = \"Igor_999\" in studenci_lista"
      ],
      "execution_count": null,
      "outputs": [
        {
          "output_type": "stream",
          "text": [
            "100000 loops, best of 3: 14.8 µs per loop\n"
          ],
          "name": "stdout"
        }
      ]
    },
    {
      "cell_type": "code",
      "metadata": {
        "id": "wQK_W2LHFxQx",
        "colab": {
          "base_uri": "https://localhost:8080/",
          "height": 50
        },
        "outputId": "9133492e-b4ad-4f19-84db-c4893bfc75f3"
      },
      "source": [
        "%%timeit\n",
        "\n",
        "##udowadniamy ze przeszukiwanie set jest szybsze niz listy\n",
        "jest = \"Igor_999\" in studenci_set"
      ],
      "execution_count": null,
      "outputs": [
        {
          "output_type": "stream",
          "text": [
            "The slowest run took 42.76 times longer than the fastest. This could mean that an intermediate result is being cached.\n",
            "10000000 loops, best of 3: 41.9 ns per loop\n"
          ],
          "name": "stdout"
        }
      ]
    },
    {
      "cell_type": "markdown",
      "metadata": {
        "id": "glxhCrupvy1q"
      },
      "source": [
        "### Własne typy"
      ]
    },
    {
      "cell_type": "code",
      "metadata": {
        "id": "S46oT2QKvy1r"
      },
      "source": [
        "zajecia = [[\"wf\"],\n",
        "           [\"informatyka\", \"nauka czytania\"],\n",
        "           [\"relax\", \"jedzenie\"],\n",
        "           [\"mispy\",\"mispy w domu\"],\n",
        "           [\"piateczek\", \"praca domowa z mispow\", \"Ilovemispy\", \"mispy w czasie snu\"]\n",
        "          ]\n",
        "\n",
        "dnityg= [\"Pon\",\"Wto\",\"Sro\",\"Czwar\",\"Pio\"]\n",
        "\n",
        "def dodaj_dwie_liczby(liczba1,liczba2):\n",
        "    return liczba1+liczba2"
      ],
      "execution_count": null,
      "outputs": []
    },
    {
      "cell_type": "code",
      "metadata": {
        "id": "lnzCr6jFvy1u"
      },
      "source": [
        "class DzienZajec():\n",
        "    \"\"\"obiekt trzymający dany dzień zajęć i przypisane mu metody\"\"\"\n",
        "    \n",
        "    \n",
        "    def __init__(self, lista_na_dany_dzien, nazwa_dnia): #definicja\n",
        "        self.lista_zajec= lista_na_dany_dzien\n",
        "        self.dzien = nazwa_dnia\n",
        "        \n",
        "\n",
        "    \n",
        "    def ile_mispow(self):\n",
        "        ile_m = sum([1 for zajecie in self.lista_zajec if \"misp\" in zajecie.lower()])\n",
        "        return ile_m\n",
        "\n",
        "    @property #zamienia na wlasciwosc   \n",
        "    def ile_zajec(self):\n",
        "        return len(self.lista_zajec)\n",
        "    \n",
        "    def __repr__(self):\n",
        "        zajecia_do_stringa = \", \".join(self.lista_zajec)\n",
        "        return \"W dzien {} mam zajecia: {}\".format(self.dzien, zajecia_do_stringa)\n",
        "    "
      ],
      "execution_count": null,
      "outputs": []
    },
    {
      "cell_type": "code",
      "metadata": {
        "id": "Mr0ilsf6vy10"
      },
      "source": [
        "pio_zajecia = DzienZajec([\"piateczek\", \"praca domowa z mispow\", \"Ilovemispy\", \"mispy w czasie snu\"],\n",
        "                        \"piatek\")"
      ],
      "execution_count": null,
      "outputs": []
    },
    {
      "cell_type": "code",
      "metadata": {
        "id": "e1VAD7vZvy14",
        "outputId": "fbffac87-4988-45a3-d38b-dfba3492d612"
      },
      "source": [
        "pio_zajecia.ile_zajec"
      ],
      "execution_count": null,
      "outputs": [
        {
          "output_type": "execute_result",
          "data": {
            "text/plain": [
              "4"
            ]
          },
          "metadata": {
            "tags": []
          },
          "execution_count": 32
        }
      ]
    },
    {
      "cell_type": "code",
      "metadata": {
        "id": "GVbhzg5_vy17",
        "outputId": "6bb781d5-fc55-48df-d2ea-188123346ecc"
      },
      "source": [
        "print(pio_zajecia)"
      ],
      "execution_count": null,
      "outputs": [
        {
          "output_type": "stream",
          "text": [
            "W dzien piatek mam zajecia: piateczek, praca domowa z mispow, Ilovemispy, mispy w czasie snu\n"
          ],
          "name": "stdout"
        }
      ]
    },
    {
      "cell_type": "code",
      "metadata": {
        "id": "usq8_cp1vy1-",
        "outputId": "dba35267-b3e5-4848-cfdc-cf8343ed0bcb"
      },
      "source": [
        "pio_zajecia.lista_zajec"
      ],
      "execution_count": null,
      "outputs": [
        {
          "output_type": "execute_result",
          "data": {
            "text/plain": [
              "['piateczek', 'praca domowa z mispow', 'Ilovemispy', 'mispy w czasie snu']"
            ]
          },
          "metadata": {
            "tags": []
          },
          "execution_count": 33
        }
      ]
    },
    {
      "cell_type": "code",
      "metadata": {
        "id": "XxOGuD5Lvy2C",
        "outputId": "0705d734-8bf9-4506-acaf-c6673be20aeb"
      },
      "source": [
        "pio_zajecia.lista_zajec.append(\"MISP\")\n",
        "print(pio_zajecia.lista_zajec)"
      ],
      "execution_count": null,
      "outputs": [
        {
          "output_type": "stream",
          "text": [
            "['piateczek', 'praca domowa z mispow', 'Ilovemispy', 'mispy w czasie snu', 'MISP']\n"
          ],
          "name": "stdout"
        }
      ]
    },
    {
      "cell_type": "code",
      "metadata": {
        "id": "yhRxxbYDvy2F",
        "outputId": "5e8e36e8-6aca-4604-9aa5-1aa2a3ca92df"
      },
      "source": [
        "pio_zajecia.ile_mispow()"
      ],
      "execution_count": null,
      "outputs": [
        {
          "output_type": "execute_result",
          "data": {
            "text/plain": [
              "4"
            ]
          },
          "metadata": {
            "tags": []
          },
          "execution_count": 35
        }
      ]
    },
    {
      "cell_type": "code",
      "metadata": {
        "id": "xcptKJTVvy2I",
        "outputId": "fec8baf6-1503-4fdc-992a-99b6a9273397"
      },
      "source": [
        "print(pio_zajecia.lista_zajec)\n"
      ],
      "execution_count": null,
      "outputs": [
        {
          "output_type": "stream",
          "text": [
            "['piateczek', 'praca domowa z mispow', 'Ilovemispy', 'mispy w czasie snu', 'MISP']\n"
          ],
          "name": "stdout"
        }
      ]
    },
    {
      "cell_type": "code",
      "metadata": {
        "id": "KNXyrAzLvy2K",
        "outputId": "24a706f7-2818-4a50-9b14-f7d111faa103"
      },
      "source": [
        "pio_zajecia"
      ],
      "execution_count": null,
      "outputs": [
        {
          "output_type": "execute_result",
          "data": {
            "text/plain": [
              "W dzien piatek mam zajecia: piateczek, praca domowa z mispow, Ilovemispy, mispy w czasie snu, MISP"
            ]
          },
          "metadata": {
            "tags": []
          },
          "execution_count": 85
        }
      ]
    },
    {
      "cell_type": "code",
      "metadata": {
        "id": "kUitJBSFvy2N",
        "outputId": "c6649010-4fba-46f9-f0c5-3a910e52f986"
      },
      "source": [
        "print(pio_zajecia.ile_zajec)"
      ],
      "execution_count": null,
      "outputs": [
        {
          "output_type": "stream",
          "text": [
            "5\n"
          ],
          "name": "stdout"
        }
      ]
    },
    {
      "cell_type": "code",
      "metadata": {
        "id": "S_48QTAhvy2P"
      },
      "source": [
        "lista_zajec= [DzienZajec(lista_dzien, dzien) for lista_dzien, dzien in \n",
        "             zip(zajecia,dnityg)]"
      ],
      "execution_count": null,
      "outputs": []
    },
    {
      "cell_type": "code",
      "metadata": {
        "id": "q2EngPd7vy2S",
        "outputId": "181a1d1b-3579-4707-9fba-29b10052438f"
      },
      "source": [
        "print(lista_zajec)"
      ],
      "execution_count": null,
      "outputs": [
        {
          "output_type": "stream",
          "text": [
            "[W dzien Pon mam zajecia: wf, W dzien Wto mam zajecia: informatyka, nauka czytania, W dzien Sro mam zajecia: relax, jedzenie, W dzien Czwar mam zajecia: mispy, mispy w domu, W dzien Pio mam zajecia: piateczek, praca domowa z mispow, Ilovemispy, mispy w czasie snu]\n"
          ],
          "name": "stdout"
        }
      ]
    },
    {
      "cell_type": "code",
      "metadata": {
        "id": "vDT8eVb-vy2W"
      },
      "source": [
        "posortowane_po_zajeciach=sorted(lista_zajec, key= lambda zajecie: zajecie.ile_zajec)\n",
        "posortowane_po_mispach=sorted(lista_zajec, key= lambda zajecie: zajecie.ile_mispow())"
      ],
      "execution_count": null,
      "outputs": []
    },
    {
      "cell_type": "code",
      "metadata": {
        "id": "a9JrUqGHvy2a",
        "outputId": "ffc43e7c-19e3-4424-e18e-21706ca181a2"
      },
      "source": [
        "print(posortowane_po_zajeciach)"
      ],
      "execution_count": null,
      "outputs": [
        {
          "output_type": "stream",
          "text": [
            "[W dzien Pon mam zajecia: wf, W dzien Wto mam zajecia: informatyka, nauka czytania, W dzien Sro mam zajecia: relax, jedzenie, W dzien Czwar mam zajecia: mispy, mispy w domu, W dzien Pio mam zajecia: piateczek, praca domowa z mispow, Ilovemispy, mispy w czasie snu]\n"
          ],
          "name": "stdout"
        }
      ]
    },
    {
      "cell_type": "code",
      "metadata": {
        "id": "hT4Mk_Uivy2d",
        "outputId": "cc778c31-40b9-465f-ad52-83cc12afdbde"
      },
      "source": [
        "print(posortowane_po_mispach)"
      ],
      "execution_count": null,
      "outputs": [
        {
          "output_type": "stream",
          "text": [
            "[W dzien Pon mam zajecia: wf, W dzien Wto mam zajecia: informatyka, nauka czytania, W dzien Sro mam zajecia: relax, jedzenie, W dzien Czwar mam zajecia: mispy, mispy w domu, W dzien Pio mam zajecia: piateczek, praca domowa z mispow, Ilovemispy, mispy w czasie snu]\n"
          ],
          "name": "stdout"
        }
      ]
    },
    {
      "cell_type": "markdown",
      "metadata": {
        "id": "W1cnodDSvy2g"
      },
      "source": [
        "##### challenge 1\n",
        "\n",
        "Stworz typ NumerTelefonu\n",
        "\n",
        " -- przy tworzeniu sprawdza czy właściwy numer (Polski) jeśli nie pisze, że error (ew. Exception)\n",
        " \n",
        " -- gdy printuję to mi pisze polskimi słowami i.e. \"jeden, pięć, siedem, zero\"\n",
        " \n",
        " -- gdy wywołuję właściwość wojewodzwtwo, podaje mi wojewodztwo ew. ze to komorkowy\n",
        " \n",
        " "
      ]
    },
    {
      "cell_type": "code",
      "metadata": {
        "id": "qYqTwmbvvy2g",
        "colab": {
          "base_uri": "https://localhost:8080/",
          "height": 128
        },
        "outputId": "c181aacd-ee28-4e03-fba6-a25c0ecc6828"
      },
      "source": [
        "# ma na takie rzeczy być w stanie odpowiedzieć\n",
        "\n",
        "numer_lodz = NumerTelefonu(\"426877868\")\n",
        ">>> \"prawidlowy numer\"\n",
        "\n",
        "numer_lodz.wojewodztwo \n",
        ">>> \"Lodz\"\n",
        "\n",
        "print(numer_lodz)\n",
        ">>> \"cztery dwa sześć osiem siedem siedem osiem sześć osiem\""
      ],
      "execution_count": null,
      "outputs": [
        {
          "output_type": "error",
          "ename": "SyntaxError",
          "evalue": "ignored",
          "traceback": [
            "\u001b[0;36m  File \u001b[0;32m\"<ipython-input-65-8dab9ef631a2>\"\u001b[0;36m, line \u001b[0;32m4\u001b[0m\n\u001b[0;31m    >>> \"prawidlowy numer\"\u001b[0m\n\u001b[0m     ^\u001b[0m\n\u001b[0;31mSyntaxError\u001b[0m\u001b[0;31m:\u001b[0m invalid syntax\n"
          ]
        }
      ]
    },
    {
      "cell_type": "code",
      "metadata": {
        "id": "0G1osG14mmbm",
        "colab": {
          "base_uri": "https://localhost:8080/",
          "height": 101
        },
        "outputId": "3ccd87cf-2df6-4c03-fd47-8933222f17ae"
      },
      "source": [
        "print (\"Podaj numer telefonu!\")\n",
        "wprowadzony_numer = input()\n",
        "\n",
        "class Telefon:\n",
        "\n",
        "    def __init__(self, test):\n",
        "        self.numer = test\n",
        "       \n",
        "    @property\n",
        "    def sprawdz(self):\n",
        "        if (len(self.numer)==9) and self.numer[0] != 0 :\n",
        "          print(\"Prawidłowy numer\")     \n",
        "        else:\n",
        "          print(\"ERROR: numer ma złą długość\")\n",
        "\n",
        "    @property\n",
        "    def wypisz(self):\n",
        "      odczyt_numeru = \"\"\n",
        "      cyfry_po_polsku = [\"zero\", \"jeden\", \"dwa\", \"trzy\", \"cztery\", \"pięć\", \"sześć\", \"siedem\", \"osiem\", \"dziewieć\"]\n",
        "      for i in range(len(self.numer)):\n",
        "        odczyt_numeru += cyfry_po_polsku[int(self.numer[i])] + \" \"\n",
        "      print (\"Numer słownie:\", odczyt_numeru) \n",
        "\n",
        "    @property\n",
        "    def kierunkowy(self):\n",
        "        if '4' in self.numer[0]  and '2' in self.numer[1] :\n",
        "          print(\"Województwo Łódzkie\") \n",
        "        else:\n",
        "          print(\"Województwo nieznane\")\n",
        "\n",
        "  \n",
        "test = Telefon(wprowadzony_numer)\n",
        "test.sprawdz\n",
        "test.wypisz\n",
        "test.kierunkowy\n",
        "\n",
        "\n",
        "\n",
        "\n"
      ],
      "execution_count": null,
      "outputs": [
        {
          "output_type": "stream",
          "text": [
            "Podaj numer telefonu!\n",
            "34535\n",
            "ERROR: numer ma złą długość\n",
            "Numer słownie: trzy cztery pięć trzy pięć \n",
            "Województwo nieznane\n"
          ],
          "name": "stdout"
        }
      ]
    },
    {
      "cell_type": "code",
      "metadata": {
        "id": "yKLh0k-bvAY_"
      },
      "source": [
        ""
      ],
      "execution_count": null,
      "outputs": []
    }
  ]
}
