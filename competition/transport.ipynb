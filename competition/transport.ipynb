{
 "cells": [
  {
   "cell_type": "code",
   "execution_count": 1,
   "metadata": {},
   "outputs": [],
   "source": [
    "from pulp import *"
   ]
  },
  {
   "cell_type": "code",
   "execution_count": 2,
   "metadata": {},
   "outputs": [],
   "source": [
    "Bary_nazwa = {0 : 'Bułka',\n",
    "            1 : 'Pewex',\n",
    "             2: 'Kebab'}"
   ]
  },
  {
   "cell_type": "code",
   "execution_count": 11,
   "metadata": {},
   "outputs": [
    {
     "ename": "SyntaxError",
     "evalue": "invalid syntax (<ipython-input-11-f7d0da8aec60>, line 2)",
     "output_type": "error",
     "traceback": [
      "\u001b[0;36m  File \u001b[0;32m\"<ipython-input-11-f7d0da8aec60>\"\u001b[0;36m, line \u001b[0;32m2\u001b[0m\n\u001b[0;31m    int total_d = lpSum(demand[d] fot d in Bars)\u001b[0m\n\u001b[0m              ^\u001b[0m\n\u001b[0;31mSyntaxError\u001b[0m\u001b[0;31m:\u001b[0m invalid syntax\n"
     ]
    }
   ],
   "source": [
    "def problem_transportu(supply, demand, Bars, Browary):\n",
    "#    int total_d = lpSum(demand[d] fot d in Bars)\n",
    "#    int total_s = lpSum(supply[s] fot s in Browary)\n",
    "#    int za_malo_towaru= 0\n",
    "    if (total_demand > total_supply):\n",
    "        za_malo_towaru = total_demand-total_supply\n",
    "    prob = LpProblem(\"Beer Distribution Problem\",LpMinimize)\n",
    "    Routes = [(w,b) for w in Browary for b in Bars]\n",
    "    #zmiennymi są poszczególne ścieżki między browarami a barami pierwsza cyfra mówi o tym\n",
    "    #z którego browaru idzie przesyłka, a druga do którego baru idzie\n",
    "    route_vars = LpVariable.dicts(\"Route\",(Browary, Bars),0,None,LpInteger)\n",
    "\n",
    "    #koszt wszystkich transportów sumarycznie\n",
    "    prob += lpSum([route_vars[w][b]*costs[w][b] for (w,b) in Routes]), \"Sum of Transporting Costs\"\n",
    "\n",
    " #   prob += lpSum(demand[b])-za_malo_towaru == lpSum(demand[b]), \"Jak za mało towaru\"\n",
    "    #ograniczenie zasobów\n",
    "    for w in Browary:\n",
    "        prob += lpSum([route_vars[w][b] for b in Bars]) <= supply[w], \"Sum of Products out of Warehouse %s\"%w\n",
    "\n",
    "    # zapotrzebowanie w barach\n",
    "    for b in Bars:\n",
    "        prob += lpSum([route_vars[w][b] for w in Browary]) >= demand[b], \"Sum of Products into Bars %s\"%b\n",
    "\n",
    "    \n",
    "    # The problem data is written to an .lp file\n",
    "    prob.writeLP(\"WhiskasModel2.lp\")\n",
    "\n",
    "    # The problem is solved using PuLP's choice of Solver\n",
    "    prob.solve()\n",
    "\n",
    "    # The status of the solution is printed to the screen\n",
    "    print (\"Status:\", LpStatus[prob.status])\n",
    "\n",
    "    # Each of the variables is printed with it's resolved optimum value\n",
    "    for v in prob.variables():\n",
    "        print (v.name, \"=\", v.varValue)\n",
    "\n",
    "    # The optimised objective function value is printed to the screen    \n",
    "    print (\"Sum of Transporting Costs = \", value(prob.objective))    \n",
    "    \n"
   ]
  },
  {
   "cell_type": "code",
   "execution_count": 4,
   "metadata": {},
   "outputs": [
    {
     "name": "stdout",
     "output_type": "stream",
     "text": [
      "Status: Optimal\n",
      "Route_0_0 = 0.0\n",
      "Route_0_1 = 5.0\n",
      "Route_0_2 = 10.0\n",
      "Route_1_0 = 19.0\n",
      "Route_1_1 = 0.0\n",
      "Route_1_2 = 0.0\n",
      "Sum of Transporting Costs =  138.0\n"
     ]
    }
   ],
   "source": [
    "Bars = [0, 1, 2]\n",
    "Browary = [0, 1]\n",
    "\n",
    "\n",
    "\n",
    "# zasoby w browarach\n",
    "supply = {0 : 20,\n",
    "            1 : 20}\n",
    "# zapotrzebowanie w kontkretnych barach \n",
    "demand = {0: 19,\n",
    "              1: 5,\n",
    "              2: 10}\n",
    "costs = [   #Bars\n",
    "         [15,10,5],#A  Warehouses\n",
    "        [2,15,20] #B\n",
    "         ]\n",
    "\n",
    "problem_transportu(supply, demand, Bars, Browary)"
   ]
  },
  {
   "cell_type": "code",
   "execution_count": 6,
   "metadata": {},
   "outputs": [
    {
     "name": "stdout",
     "output_type": "stream",
     "text": [
      "Status: Infeasible\n",
      "Route_0_0 = 0.0\n",
      "Route_0_1 = 0.0\n",
      "Route_0_2 = 10.0\n",
      "Route_1_0 = 19.0\n",
      "Route_1_1 = 5.0\n",
      "Route_1_2 = 0.0\n",
      "Sum of Transporting Costs =  163.0\n"
     ]
    }
   ],
   "source": [
    "Bars = [0, 1, 2]\n",
    "Browary = [0, 1]\n",
    "\n",
    "supply = {0 : 10,\n",
    "            1 : 20}\n",
    "  \n",
    "demand = {0: 19,\n",
    "              1: 5,\n",
    "              2: 10}\n",
    "costs = [   #Bars\n",
    "         [15,10,5],#A  Warehouses\n",
    "        [2,15,20] #B\n",
    "         ]\n",
    "\n",
    "problem_transportu(supply, demand, Bars, Browary)"
   ]
  }
 ],
 "metadata": {
  "kernelspec": {
   "display_name": "Python 3",
   "language": "python",
   "name": "python3"
  },
  "language_info": {
   "codemirror_mode": {
    "name": "ipython",
    "version": 3
   },
   "file_extension": ".py",
   "mimetype": "text/x-python",
   "name": "python",
   "nbconvert_exporter": "python",
   "pygments_lexer": "ipython3",
   "version": "3.7.3"
  }
 },
 "nbformat": 4,
 "nbformat_minor": 2
}
