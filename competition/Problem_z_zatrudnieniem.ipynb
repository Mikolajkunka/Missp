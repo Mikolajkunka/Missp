{
 "cells": [
  {
   "cell_type": "code",
   "execution_count": 2,
   "metadata": {},
   "outputs": [],
   "source": [
    "from pulp import *\n",
    "import pandas as pd"
   ]
  },
  {
   "cell_type": "code",
   "execution_count": 16,
   "metadata": {},
   "outputs": [
    {
     "ename": "SyntaxError",
     "evalue": "invalid syntax (<ipython-input-16-ba064aa5e38b>, line 33)",
     "output_type": "error",
     "traceback": [
      "\u001b[0;36m  File \u001b[0;32m\"<ipython-input-16-ba064aa5e38b>\"\u001b[0;36m, line \u001b[0;32m33\u001b[0m\n\u001b[0;31m    prob += (Osoba_czas_pon[i] + Osoba_czas_wt[i] + Osoba_czas_sr[i] + Osoba_czas_czw[i] + Osoba_czas_pt[i] + Osoba_czas_sob[i]) for i in Osoba_pon <= 8, \"Maks godzin pracy\"\u001b[0m\n\u001b[0m                                                                                                                                   ^\u001b[0m\n\u001b[0;31mSyntaxError\u001b[0m\u001b[0;31m:\u001b[0m invalid syntax\n"
     ]
    }
   ],
   "source": [
    "Osoba = [Osoba_pon, Osoba_wt, Osoba_sr, Osoba_czw, Osoba_pt, Osoba_sob]\n",
    "Osoba_pon = ['Igor', 'Marcin', 'Franek', 'Piotr', 'Ania', 'Zenon', 'Ziemowit', 'Brunhilda']\n",
    "Osoba_wt = ['Igor', 'Marcin', 'Franek', 'Piotr', 'Ania', 'Zenon', 'Ziemowit', 'Brunhilda']\n",
    "Osoba_sr = ['Igor', 'Marcin', 'Franek', 'Piotr', 'Ania', 'Zenon', 'Ziemowit', 'Brunhilda']\n",
    "Osoba_czw = ['Igor', 'Marcin', 'Franek', 'Piotr', 'Ania', 'Zenon', 'Ziemowit', 'Brunhilda']\n",
    "Osoba_pt = ['Igor', 'Marcin', 'Franek', 'Piotr', 'Ania', 'Zenon', 'Ziemowit', 'Brunhilda']\n",
    "Osoba_sob = ['Igor', 'Marcin', 'Franek', 'Piotr', 'Ania', 'Zenon', 'Ziemowit', 'Brunhilda']\n",
    "\n",
    "stawka = {'Igor': 170, \n",
    "         'Marcin': 60, \n",
    "         'Franek': 80, \n",
    "         'Piotr': 200, \n",
    "         'Ania': 90, \n",
    "         'Zenon': 18,\n",
    "         'Ziemowit': 5,\n",
    "         'Brunhilda': 100}\n",
    "\n",
    "\n",
    "\n",
    "\n",
    "prob = LpProblem(\"Scheduling problem\",LpMinimize)\n",
    "\n",
    "\n",
    "Osoba=LpVariable.dicts(\"osoba\",Osoba_pon,0)\n",
    "#Osoba_czas_pon = LpVariable.dicts(\"pon\",Osoba_pon,0)\n",
    "#Osoba_czas_wt = LpVariable.dicts(\"wt\",Osoba_wt,0)\n",
    "#Osoba_czas_sr = LpVariable.dicts(\"sr\",Osoba_sr,0)\n",
    "#Osoba_czas_czw = LpVariable.dicts(\"czw\",Osoba_czw,0)\n",
    "#Osoba_czas_pt = LpVariable.dicts(\"pt\",Osoba_pt,0)\n",
    "#Osoba_czas_sob = LpVariable.dicts(\"sob\",Osoba_sob,0)\n",
    "\n",
    "\n",
    "prob += lpSum([stawka[i]*(Osoba_czas_pon[i] + Osoba_czas_wt[i] + Osoba_czas_sr[i] + Osoba_czas_czw[i] + Osoba_czas_pt[i] + Osoba_czas_sob[i]) for i in Osoba_pon]), \"Total Cost\"\n",
    "prob += (Osoba_czas_pon[i] + Osoba_czas_wt[i] + Osoba_czas_sr[i] + Osoba_czas_czw[i] + Osoba_czas_pt[i] + Osoba_czas_sob[i]) for i in Osoba_pon <= 8, \"Maks godzin pracy\"\n"
   ]
  }
 ],
 "metadata": {
  "kernelspec": {
   "display_name": "Python 3",
   "language": "python",
   "name": "python3"
  },
  "language_info": {
   "codemirror_mode": {
    "name": "ipython",
    "version": 3
   },
   "file_extension": ".py",
   "mimetype": "text/x-python",
   "name": "python",
   "nbconvert_exporter": "python",
   "pygments_lexer": "ipython3",
   "version": "3.7.3"
  }
 },
 "nbformat": 4,
 "nbformat_minor": 2
}
