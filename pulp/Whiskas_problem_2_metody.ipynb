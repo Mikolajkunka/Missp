{
  "nbformat": 4,
  "nbformat_minor": 0,
  "metadata": {
    "colab": {
      "name": "Whiskas_problem_2_metody.ipynb",
      "provenance": [],
      "authorship_tag": "ABX9TyPvZXAfUJRo6yMag5uIgL+q",
      "include_colab_link": true
    },
    "kernelspec": {
      "name": "python3",
      "display_name": "Python 3"
    }
  },
  "cells": [
    {
      "cell_type": "markdown",
      "metadata": {
        "id": "view-in-github",
        "colab_type": "text"
      },
      "source": [
        "<a href=\"https://colab.research.google.com/github/Mikolajkunka/Missp/blob/main/pulp/Whiskas_problem_2_metody.ipynb\" target=\"_parent\"><img src=\"https://colab.research.google.com/assets/colab-badge.svg\" alt=\"Open In Colab\"/></a>"
      ]
    },
    {
      "cell_type": "code",
      "metadata": {
        "colab": {
          "base_uri": "https://localhost:8080/"
        },
        "id": "OoZQGaJTZxtT",
        "outputId": "f1ad5dfb-5d07-4d47-a3e7-36b7ef86de29"
      },
      "source": [
        "!pip install pulp # instalacja biblioteki pulp\r\n",
        "\r\n",
        "!sudo apt-get install coinor-cbc glpk-utils coinor-clp\r\n"
      ],
      "execution_count": 2,
      "outputs": [
        {
          "output_type": "stream",
          "text": [
            "Collecting pulp\n",
            "\u001b[?25l  Downloading https://files.pythonhosted.org/packages/89/0c/6d80f5f81a92d1733cc5ca180491b8a3cd5839e335627a0046c81b7d3d3d/PuLP-2.3.1-py3-none-any.whl (40.6MB)\n",
            "\u001b[K     |████████████████████████████████| 40.6MB 98kB/s \n",
            "\u001b[?25hCollecting amply>=0.1.2\n",
            "  Downloading https://files.pythonhosted.org/packages/f3/c5/dfa09dd2595a2ab2ab4e6fa7bebef9565812722e1980d04b0edce5032066/amply-0.1.4-py3-none-any.whl\n",
            "Requirement already satisfied: pyparsing in /usr/local/lib/python3.6/dist-packages (from amply>=0.1.2->pulp) (2.4.7)\n",
            "Requirement already satisfied: docutils>=0.3 in /usr/local/lib/python3.6/dist-packages (from amply>=0.1.2->pulp) (0.16)\n",
            "Installing collected packages: amply, pulp\n",
            "Successfully installed amply-0.1.4 pulp-2.3.1\n",
            "Reading package lists... Done\n",
            "Building dependency tree       \n",
            "Reading state information... Done\n",
            "The following additional packages will be installed:\n",
            "  coinor-libcbc3 coinor-libcgl1 coinor-libclp1 coinor-libcoinutils3v5\n",
            "  coinor-libosi1v5 libamd2 libcolamd2 libglpk40 libsuitesparseconfig5\n",
            "Suggested packages:\n",
            "  libiodbc2-dev default-libmysqlclient-dev\n",
            "The following NEW packages will be installed:\n",
            "  coinor-cbc coinor-clp coinor-libcbc3 coinor-libcgl1 coinor-libclp1\n",
            "  coinor-libcoinutils3v5 coinor-libosi1v5 glpk-utils libamd2 libcolamd2\n",
            "  libglpk40 libsuitesparseconfig5\n",
            "0 upgraded, 12 newly installed, 0 to remove and 14 not upgraded.\n",
            "Need to get 3,439 kB of archives.\n",
            "After this operation, 9,832 kB of additional disk space will be used.\n",
            "Get:1 http://archive.ubuntu.com/ubuntu bionic/main amd64 libsuitesparseconfig5 amd64 1:5.1.2-2 [9,044 B]\n",
            "Get:2 http://archive.ubuntu.com/ubuntu bionic/main amd64 libamd2 amd64 1:5.1.2-2 [19.5 kB]\n",
            "Get:3 http://archive.ubuntu.com/ubuntu bionic/main amd64 libcolamd2 amd64 1:5.1.2-2 [16.2 kB]\n",
            "Get:4 http://archive.ubuntu.com/ubuntu bionic/universe amd64 libglpk40 amd64 4.65-1 [378 kB]\n",
            "Get:5 http://archive.ubuntu.com/ubuntu bionic/universe amd64 glpk-utils amd64 4.65-1 [269 kB]\n",
            "Get:6 http://archive.ubuntu.com/ubuntu bionic/universe amd64 coinor-libcoinutils3v5 amd64 2.10.14+repack1-1 [472 kB]\n",
            "Get:7 http://archive.ubuntu.com/ubuntu bionic/universe amd64 coinor-libosi1v5 amd64 0.107.9+repack1-1 [270 kB]\n",
            "Get:8 http://archive.ubuntu.com/ubuntu bionic/universe amd64 coinor-libclp1 amd64 1.16.11+repack1-1 [863 kB]\n",
            "Get:9 http://archive.ubuntu.com/ubuntu bionic/universe amd64 coinor-libcgl1 amd64 0.59.10+repack1-1 [433 kB]\n",
            "Get:10 http://archive.ubuntu.com/ubuntu bionic/universe amd64 coinor-libcbc3 amd64 2.9.9+repack1-1 [687 kB]\n",
            "Get:11 http://archive.ubuntu.com/ubuntu bionic/universe amd64 coinor-cbc amd64 2.9.9+repack1-1 [11.2 kB]\n",
            "Get:12 http://archive.ubuntu.com/ubuntu bionic/universe amd64 coinor-clp amd64 1.16.11+repack1-1 [9,646 B]\n",
            "Fetched 3,439 kB in 3s (1,319 kB/s)\n",
            "debconf: unable to initialize frontend: Dialog\n",
            "debconf: (No usable dialog-like program is installed, so the dialog based frontend cannot be used. at /usr/share/perl5/Debconf/FrontEnd/Dialog.pm line 76, <> line 12.)\n",
            "debconf: falling back to frontend: Readline\n",
            "debconf: unable to initialize frontend: Readline\n",
            "debconf: (This frontend requires a controlling tty.)\n",
            "debconf: falling back to frontend: Teletype\n",
            "dpkg-preconfigure: unable to re-open stdin: \n",
            "Selecting previously unselected package libsuitesparseconfig5:amd64.\n",
            "(Reading database ... 144865 files and directories currently installed.)\n",
            "Preparing to unpack .../00-libsuitesparseconfig5_1%3a5.1.2-2_amd64.deb ...\n",
            "Unpacking libsuitesparseconfig5:amd64 (1:5.1.2-2) ...\n",
            "Selecting previously unselected package libamd2:amd64.\n",
            "Preparing to unpack .../01-libamd2_1%3a5.1.2-2_amd64.deb ...\n",
            "Unpacking libamd2:amd64 (1:5.1.2-2) ...\n",
            "Selecting previously unselected package libcolamd2:amd64.\n",
            "Preparing to unpack .../02-libcolamd2_1%3a5.1.2-2_amd64.deb ...\n",
            "Unpacking libcolamd2:amd64 (1:5.1.2-2) ...\n",
            "Selecting previously unselected package libglpk40:amd64.\n",
            "Preparing to unpack .../03-libglpk40_4.65-1_amd64.deb ...\n",
            "Unpacking libglpk40:amd64 (4.65-1) ...\n",
            "Selecting previously unselected package glpk-utils.\n",
            "Preparing to unpack .../04-glpk-utils_4.65-1_amd64.deb ...\n",
            "Unpacking glpk-utils (4.65-1) ...\n",
            "Selecting previously unselected package coinor-libcoinutils3v5.\n",
            "Preparing to unpack .../05-coinor-libcoinutils3v5_2.10.14+repack1-1_amd64.deb ...\n",
            "Unpacking coinor-libcoinutils3v5 (2.10.14+repack1-1) ...\n",
            "Selecting previously unselected package coinor-libosi1v5.\n",
            "Preparing to unpack .../06-coinor-libosi1v5_0.107.9+repack1-1_amd64.deb ...\n",
            "Unpacking coinor-libosi1v5 (0.107.9+repack1-1) ...\n",
            "Selecting previously unselected package coinor-libclp1.\n",
            "Preparing to unpack .../07-coinor-libclp1_1.16.11+repack1-1_amd64.deb ...\n",
            "Unpacking coinor-libclp1 (1.16.11+repack1-1) ...\n",
            "Selecting previously unselected package coinor-libcgl1.\n",
            "Preparing to unpack .../08-coinor-libcgl1_0.59.10+repack1-1_amd64.deb ...\n",
            "Unpacking coinor-libcgl1 (0.59.10+repack1-1) ...\n",
            "Selecting previously unselected package coinor-libcbc3.\n",
            "Preparing to unpack .../09-coinor-libcbc3_2.9.9+repack1-1_amd64.deb ...\n",
            "Unpacking coinor-libcbc3 (2.9.9+repack1-1) ...\n",
            "Selecting previously unselected package coinor-cbc.\n",
            "Preparing to unpack .../10-coinor-cbc_2.9.9+repack1-1_amd64.deb ...\n",
            "Unpacking coinor-cbc (2.9.9+repack1-1) ...\n",
            "Selecting previously unselected package coinor-clp.\n",
            "Preparing to unpack .../11-coinor-clp_1.16.11+repack1-1_amd64.deb ...\n",
            "Unpacking coinor-clp (1.16.11+repack1-1) ...\n",
            "Setting up libsuitesparseconfig5:amd64 (1:5.1.2-2) ...\n",
            "Setting up libcolamd2:amd64 (1:5.1.2-2) ...\n",
            "Setting up coinor-libcoinutils3v5 (2.10.14+repack1-1) ...\n",
            "Setting up coinor-libosi1v5 (0.107.9+repack1-1) ...\n",
            "Setting up coinor-libclp1 (1.16.11+repack1-1) ...\n",
            "Setting up libamd2:amd64 (1:5.1.2-2) ...\n",
            "Setting up coinor-libcgl1 (0.59.10+repack1-1) ...\n",
            "Setting up libglpk40:amd64 (4.65-1) ...\n",
            "Setting up coinor-clp (1.16.11+repack1-1) ...\n",
            "Setting up coinor-libcbc3 (2.9.9+repack1-1) ...\n",
            "Setting up glpk-utils (4.65-1) ...\n",
            "Setting up coinor-cbc (2.9.9+repack1-1) ...\n",
            "Processing triggers for man-db (2.8.3-2ubuntu0.1) ...\n",
            "Processing triggers for libc-bin (2.27-3ubuntu1.2) ...\n",
            "/sbin/ldconfig.real: /usr/local/lib/python3.6/dist-packages/ideep4py/lib/libmkldnn.so.0 is not a symbolic link\n",
            "\n"
          ],
          "name": "stdout"
        }
      ]
    },
    {
      "cell_type": "code",
      "metadata": {
        "colab": {
          "base_uri": "https://localhost:8080/"
        },
        "id": "wW6qYsU_Z3Kb",
        "outputId": "7353daec-9a52-4ef3-8e32-2e5814896f38"
      },
      "source": [
        "### kod sprawdza czy instalacja się udała\r\n",
        "import pulp\r\n",
        "\r\n",
        "print(pulp.__version__) #sprawdzenie wersji "
      ],
      "execution_count": null,
      "outputs": [
        {
          "output_type": "stream",
          "text": [
            "2.3.1\n"
          ],
          "name": "stdout"
        }
      ]
    },
    {
      "cell_type": "code",
      "metadata": {
        "colab": {
          "base_uri": "https://localhost:8080/",
          "height": 168
        },
        "id": "-9hgxEi2Z5gL",
        "outputId": "bc0e702a-9d61-4ba8-c8fe-a5e1111311f8"
      },
      "source": [
        "pulp.pulpTestAll() # wykonanie testu biblioteki pulp"
      ],
      "execution_count": 3,
      "outputs": [
        {
          "output_type": "error",
          "ename": "NameError",
          "evalue": "ignored",
          "traceback": [
            "\u001b[0;31m---------------------------------------------------------------------------\u001b[0m",
            "\u001b[0;31mNameError\u001b[0m                                 Traceback (most recent call last)",
            "\u001b[0;32m<ipython-input-3-471de0fd06f7>\u001b[0m in \u001b[0;36m<module>\u001b[0;34m()\u001b[0m\n\u001b[0;32m----> 1\u001b[0;31m \u001b[0mpulp\u001b[0m\u001b[0;34m.\u001b[0m\u001b[0mpulpTestAll\u001b[0m\u001b[0;34m(\u001b[0m\u001b[0;34m)\u001b[0m \u001b[0;31m# wykonanie testu biblioteki pulp\u001b[0m\u001b[0;34m\u001b[0m\u001b[0;34m\u001b[0m\u001b[0m\n\u001b[0m",
            "\u001b[0;31mNameError\u001b[0m: name 'pulp' is not defined"
          ]
        }
      ]
    },
    {
      "cell_type": "markdown",
      "metadata": {
        "id": "JHP3Y3Yh-stH"
      },
      "source": [
        "# Zadania:\n",
        "\n",
        "1. przeczytaj materiały dotyczące pulp ze strony internetowej https://coin-or.github.io/pulp/main/index.html oraz przejdź przez blending problem (przepisz do swojego notebooka)\n",
        "\n",
        "2. w blending problem dodaj zmienną decyzyjną. Stwórz zmienną która pojawi się w końcowym składzie produktu (tj. wartość zmiennej będzie miała niezerową postać)\n",
        "\n",
        "3. Dodaj ograniczenie co do zawartości witaminy B \n",
        "\n",
        "Zawartość:\n",
        "\n",
        "| Nazwa      | zawartość ug/100g |\n",
        "|------------|-------------------|\n",
        "| chicken    | 0.3               |\n",
        "| beef       | 2.6               |\n",
        "| mutton     | 2.6               |\n",
        "| rice       | 0                 |\n",
        "| wheat bran | 0                 |\n",
        "| gel        | 0                 |\n",
        "| sardines   | 8.9               |\n",
        "\n",
        "Kot ma zjeść minimum 0.24 ug na kilogram masy więc około\n",
        "0.8 ug dziennie\n",
        "\n",
        "4. Na końcu ma pojawiać się zdanie podsumowujące wynik, w stylu:\n",
        "Końcowy produkt będzie kosztować {}, będzie miał w składzie {nazwa}: {} %, {nastepna nazwa}: {} %\n",
        "\n",
        "Takie zdanie można skleić z części generowanych automatycznie:\n",
        "\n"
      ]
    },
    {
      "cell_type": "code",
      "metadata": {
        "id": "It8fXoU39QHq"
      },
      "source": [
        "Naszym zadaniem było rozwiązanie pewnego problemu:\r\n",
        "https://coin-or.github.io/pulp/CaseStudies/a_blending_problem.html\r\n",
        "\r\n",
        "Celem tej optymalizacji jest jak największy zysk przy produkcji jednej puszki \r\n",
        "karmy dla kotów. Musimy jednak pamiętać o tym, aby spełnić pewne założenia dotyczące \r\n",
        "na przykład zawartości makroskładników w karmie oraz proporcji poszczególnych składników,\r\n",
        "które muszą zawierać się w przedziale od 0 do 100%. Przy pomocy poniższego kodu dobrana\r\n",
        "zostanie odpowiednia proprcja składników oraz cena zapewniająca maksymalny zysk dla producenta.\r\n",
        "Przetestowane zostały dwa modele uproszczony oraz rozwinięty, który zawiera więcej możliwych\r\n",
        "do użycia składników."
      ],
      "execution_count": null,
      "outputs": []
    },
    {
      "cell_type": "code",
      "metadata": {
        "colab": {
          "base_uri": "https://localhost:8080/"
        },
        "id": "zBSKQLUyZ7Wb",
        "outputId": "d047e4f3-6ed1-4927-ab8d-9ef4e7883682"
      },
      "source": [
        "\r\n",
        "from pulp import * # import biblioteki pulp\r\n",
        "\r\n",
        "#zmienna prob to zmienna do której będziemy dodawać ograniczenia\r\n",
        "#LpMinimize ma za zadanie minimalizacje kosztu produkcji\r\n",
        "prob = LpProblem(\"The Whiskas Problem\",LpMinimize)\r\n",
        "LpVariable(\"example\", None, 100)\r\n",
        "\r\n",
        "# The 2 variables Beef and Chicken are created with a lower limit of zero\r\n",
        "#zmienne x1,x2,x3 oznaczają poszczególne składniki(porcentowa zawartość)\r\n",
        "x1=LpVariable(\"ChickenPercent\",0,None,LpInteger)\r\n",
        "x2=LpVariable(\"BeefPercent\",0)\r\n",
        "x3=LpVariable(\"MuttonPercent\",0)\r\n",
        "\r\n",
        "# The objective function is added to 'prob' first\r\n",
        "prob += 0.013*x1 + 0.008*x2 + 0.004*x3, \"Total Cost of Ingredients per can\"\r\n",
        "\r\n",
        "# The five constraints are entered\r\n",
        "prob += x1 + x2 + x3 == 100, \"PercentagesSum\"\r\n",
        "#tak jak zostało opisane to w naszym problemie, musimy dodać pewne wymagania\r\n",
        "# takie jak minimalna zawartość poszczególnych mikroskładników oraz suma procetowa\r\n",
        "prob += 0.100*x1 + 0.200*x2 + 0.0*x3 >= 8.0, \"ProteinRequirement\"\r\n",
        "prob += 0.080*x1 + 0.100*x2 + 0.11*x3 >= 6.0, \"FatRequirement\"\r\n",
        "prob += 0.001*x1 + 0.005*x2 + 0.003*x3 <= 2.0, \"FibreRequirement\"\r\n",
        "prob += 0.002*x1 + 0.005*x2 + 0.0075*x3 <= 0.4, \"SaltRequirement\"\r\n",
        "prob += 0.003*x1 + 0.026*x2 + 0.026*x3 >= 0.8, \"Witamina B\" \r\n",
        "\r\n",
        "prob.writeLP(\"WhiskasModel.lp\") # nazwa Naszego problemu\r\n",
        "prob.solve() # funkcja wywołująca rozwiązanie\r\n",
        "print(\"Status:\", LpStatus[prob.status])  # informacja o statusie problemu i możliwości jego rozwiązania\r\n",
        "\r\n",
        "for v in prob.variables():\r\n",
        "    print(v.name, \"=\", v.varValue)  #wypisanie każdego użytego składnika wraz z zawartością %\r\n",
        "\r\n",
        "udzial = \"\"\r\n",
        "\r\n",
        "for v in prob.variables():\r\n",
        "    udzial += v.name + \" = \" + str(v.varValue)+ \"%, \"  #możliwość wypisania każdego produktu w jednej linii\r\n",
        "\r\n",
        "udzial = udzial[:-2]\r\n",
        "print(\"Cena puszki to: \", value(prob.objective), \"$ i będzie się składać z:\", udzial,\".\")\r\n"
      ],
      "execution_count": null,
      "outputs": [
        {
          "output_type": "stream",
          "text": [
            "/usr/local/lib/python3.6/dist-packages/pulp/pulp.py:1198: UserWarning: Spaces are not permitted in the name. Converted to '_'\n",
            "  warnings.warn(\"Spaces are not permitted in the name. Converted to '_'\")\n"
          ],
          "name": "stderr"
        },
        {
          "output_type": "stream",
          "text": [
            "Status: Optimal\n",
            "BeefPercent = 65.2\n",
            "ChickenPercent = 34.0\n",
            "MuttonPercent = 0.8\n",
            "Cena puszki to:  0.9668 $ i będzie się składać z: BeefPercent = 65.2%, ChickenPercent = 34.0%, MuttonPercent = 0.8% .\n"
          ],
          "name": "stdout"
        }
      ]
    },
    {
      "cell_type": "code",
      "metadata": {
        "id": "mEUZKmiDKvBN"
      },
      "source": [
        "W drugim wariancie mamy do czynienia z wersją rozbudowaną, w której wszystkie\r\n",
        "składniki odżywcze są zgrupowane w poszczególne słowniki, dzięki czemu mamy do nich\r\n",
        "lepszy dostęp w przypadku modyfikacji. Daje to szczególne korzyści w przypadku, gdy\r\n",
        "optymalizacji poddamy rozbudowany problem."
      ],
      "execution_count": null,
      "outputs": []
    },
    {
      "cell_type": "code",
      "metadata": {
        "colab": {
          "base_uri": "https://localhost:8080/"
        },
        "id": "G2dfcL67aFvl",
        "outputId": "09eb4771-929d-4c2f-ff6a-c80738bd1f36"
      },
      "source": [
        "from pulp import *\r\n",
        "\r\n",
        "#tabela zawierająca listę produktów\r\n",
        "Ingredients = ['CHICKEN', 'BEEF', 'MUTTON', 'RICE', 'WHEAT', 'GEL', 'SARDINES']\r\n",
        "\r\n",
        "# A dictionary of the costs of each of the Ingredients is created\r\n",
        "costs = {'CHICKEN': 0.013, \r\n",
        "         'BEEF': 0.008, \r\n",
        "         'MUTTON': 0.010, \r\n",
        "         'RICE': 0.002, \r\n",
        "         'WHEAT': 0.005, \r\n",
        "         'GEL': 0.001,\r\n",
        "         'SARDINES': 0.015}\r\n",
        "\r\n",
        "# A dictionary of the protein percent in each of the Ingredients is created\r\n",
        "proteinPercent = {'CHICKEN': 0.100, \r\n",
        "                  'BEEF': 0.200, \r\n",
        "                  'MUTTON': 0.150, \r\n",
        "                  'RICE': 0.000, \r\n",
        "                  'WHEAT': 0.040, \r\n",
        "                  'GEL': 0.000,\r\n",
        "                  'SARDINES': 0.150}\r\n",
        "\r\n",
        "# A dictionary of the fat percent in each of the Ingredients is created\r\n",
        "fatPercent = {'CHICKEN': 0.080, \r\n",
        "              'BEEF': 0.100, \r\n",
        "              'MUTTON': 0.110, \r\n",
        "              'RICE': 0.010, \r\n",
        "              'WHEAT': 0.010, \r\n",
        "              'GEL': 0.000,\r\n",
        "              'SARDINES': 0.008}\r\n",
        "\r\n",
        "# A dictionary of the fibre percent in each of the Ingredients is created\r\n",
        "fibrePercent = {'CHICKEN': 0.001, \r\n",
        "                'BEEF': 0.005, \r\n",
        "                'MUTTON': 0.003, \r\n",
        "                'RICE': 0.100, \r\n",
        "                'WHEAT': 0.150, \r\n",
        "                'GEL': 0.000,\r\n",
        "                'SARDINES': 0.000}\r\n",
        "\r\n",
        "# A dictionary of the salt percent in each of the Ingredients is created\r\n",
        "saltPercent = {'CHICKEN': 0.002, \r\n",
        "               'BEEF': 0.005, \r\n",
        "               'MUTTON': 0.007, \r\n",
        "               'RICE': 0.002, \r\n",
        "               'WHEAT': 0.008, \r\n",
        "               'GEL': 0.000,\r\n",
        "               'SARDINES': 0.001}\r\n",
        "# A dictionary of the Vit. B percent in each of the Ingredients is created\r\n",
        "WitaminaBPercent = {'CHICKEN': 0.003, \r\n",
        "               'BEEF': 0.026, \r\n",
        "               'MUTTON': 0.026, \r\n",
        "               'RICE': 0.0, \r\n",
        "               'WHEAT': 0.0, \r\n",
        "               'GEL': 0.0,\r\n",
        "               'SARDINES': 0.89}\r\n",
        "\r\n",
        "prob = LpProblem(\"The Whiskas Problem\", LpMinimize)\r\n",
        "\r\n",
        "#utworzenie słownika dla zmiennych\r\n",
        "ingredient_vars = LpVariable.dicts(\"Ingr\",Ingredients,0)\r\n",
        "\r\n",
        "#ze słownika \"costs\" pobieramy cene produktu i mnożymy ją przed odpowiednią zmienną x\r\n",
        "prob += lpSum([costs[i]*ingredient_vars[i] for i in Ingredients]), \"Total Cost of Ingredients per can\"\r\n",
        "\r\n",
        "#ograniczenie procentowe sumy wszystkich składników\r\n",
        "prob += lpSum([ingredient_vars[i] for i in Ingredients]) == 100, \"PercentagesSum\"\r\n",
        "\r\n",
        "#warunki poszczególnych wartości odżywczych tak jak w modelu uproszczonym\r\n",
        "prob += lpSum([proteinPercent[i] * ingredient_vars[i] for i in Ingredients]) >= 8.0, \"ProteinRequirement\"\r\n",
        "prob += lpSum([fatPercent[i] * ingredient_vars[i] for i in Ingredients]) >= 6.0, \"FatRequirement\"\r\n",
        "prob += lpSum([fibrePercent[i] * ingredient_vars[i] for i in Ingredients]) <= 2.0, \"FibreRequirement\"\r\n",
        "prob += lpSum([saltPercent[i] * ingredient_vars[i] for i in Ingredients]) <= 0.4, \"SaltRequirement\"\r\n",
        "prob += lpSum([WitaminaBPercent[i] * ingredient_vars[i] for i in Ingredients]) >= 0.8, \"WitaminaBRequirement\"\r\n",
        "prob += ingredient_vars['SARDINES'] >=25, \"MinSardines\"\r\n",
        "prob.solve()\r\n",
        "print(\"Status:\", LpStatus[prob.status])\r\n",
        "\r\n",
        "for v in prob.variables():\r\n",
        "    print(v.name, \"=\", v.varValue)\r\n",
        "\r\n",
        "udzial = \"\"\r\n",
        "\r\n",
        "for v in prob.variables():\r\n",
        "    udzial += v.name + \" = \" + str(v.varValue)+ \"%, \" \r\n",
        "\r\n",
        "udzial = udzial[:-2]\r\n",
        "print(\"Cena puszki to: \", value(prob.objective), \"$ i będzie się składać z:\", udzial,\".\")\r\n"
      ],
      "execution_count": 11,
      "outputs": [
        {
          "output_type": "stream",
          "text": [
            "Status: Optimal\n",
            "Ingr_BEEF = 58.0\n",
            "Ingr_CHICKEN = 0.0\n",
            "Ingr_GEL = 17.0\n",
            "Ingr_MUTTON = 0.0\n",
            "Ingr_RICE = 0.0\n",
            "Ingr_SARDINES = 25.0\n",
            "Ingr_WHEAT = 0.0\n",
            "Cena puszki to:  0.8560000000000001 $ i będzie się składać z: Ingr_BEEF = 58.0%, Ingr_CHICKEN = 0.0%, Ingr_GEL = 17.0%, Ingr_MUTTON = 0.0%, Ingr_RICE = 0.0%, Ingr_SARDINES = 25.0%, Ingr_WHEAT = 0.0% .\n"
          ],
          "name": "stdout"
        },
        {
          "output_type": "stream",
          "text": [
            "/usr/local/lib/python3.6/dist-packages/pulp/pulp.py:1198: UserWarning: Spaces are not permitted in the name. Converted to '_'\n",
            "  warnings.warn(\"Spaces are not permitted in the name. Converted to '_'\")\n"
          ],
          "name": "stderr"
        }
      ]
    },
    {
      "cell_type": "code",
      "metadata": {
        "id": "Sb1QuotuQtFz"
      },
      "source": [
        "Po impelementacji wersji rozszerzonej początkowo wartość została zoptymalizowana w taki sposób,\r\n",
        "że do produkcji kociej karmy zostały użyte tylko dwa skladniki \"beef\" 60% oraz \"gel\" 40%.\r\n",
        "Aby urozmaicić skład pożywienia i zapewnić różnorodny smak dodano ograniczenie, co do \r\n",
        "minimalnej zawartości sardynek powyżej 25%. Efekt takiej operacji, czyli cena i zawartość \r\n",
        "procentowa widoczna jest powyżej."
      ],
      "execution_count": null,
      "outputs": []
    },
    {
      "cell_type": "code",
      "metadata": {
        "id": "yJviu87gQ21k"
      },
      "source": [
        ""
      ],
      "execution_count": null,
      "outputs": []
    }
  ]
}